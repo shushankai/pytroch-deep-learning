{
 "cells": [
  {
   "cell_type": "markdown",
   "id": "e51986fb",
   "metadata": {},
   "source": [
    "# Utils functions"
   ]
  },
  {
   "cell_type": "code",
   "execution_count": 1,
   "id": "329422b9",
   "metadata": {},
   "outputs": [],
   "source": [
    "import numpy as np\n",
    "import pandas as pd\n",
    "import random\n",
    "import torch\n",
    "import torch.nn as nn\n"
   ]
  },
  {
   "cell_type": "code",
   "execution_count": 2,
   "id": "8cae9dee",
   "metadata": {},
   "outputs": [],
   "source": [
    "def set_seeds(seed:int)-> None:\n",
    "    np.random.seed(seed)\n",
    "    random.seed(seed)\n",
    "    torch.manual_seed(seed)\n",
    "    torch.cuda.manual_seed(seed)\n",
    "    torch.cuda.manual_seed_all(seed) \n",
    "\n"
   ]
  },
  {
   "cell_type": "code",
   "execution_count": null,
   "id": "3cb58faa",
   "metadata": {},
   "outputs": [],
   "source": [
    "# Set Device \n",
    "cuda = True\n",
    "device = torch.device('cuda' if (torch.cuda.is_available()) else 'cpu')\n",
    "torch.set_default_dtype(torch.float32)\n",
    "if device == 'cuda':\n",
    "    torch.set_default_dtype()\n",
    "\n",
    "torch.set_default_device()\n",
    "torch.set_defau\n"
   ]
  }
 ],
 "metadata": {
  "kernelspec": {
   "display_name": ".PTDL-venv",
   "language": "python",
   "name": "python3"
  },
  "language_info": {
   "codemirror_mode": {
    "name": "ipython",
    "version": 3
   },
   "file_extension": ".py",
   "mimetype": "text/x-python",
   "name": "python",
   "nbconvert_exporter": "python",
   "pygments_lexer": "ipython3",
   "version": "3.10.17"
  }
 },
 "nbformat": 4,
 "nbformat_minor": 5
}
