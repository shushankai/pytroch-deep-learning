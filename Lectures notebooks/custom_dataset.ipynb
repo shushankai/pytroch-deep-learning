{
 "cells": [
  {
   "cell_type": "markdown",
   "id": "7df31a00",
   "metadata": {},
   "source": [
    "# Custom Dataset "
   ]
  },
  {
   "cell_type": "markdown",
   "id": "b4a5e2af",
   "metadata": {
    "jp-MarkdownHeadingCollapsed": true
   },
   "source": [
    "## Import\n"
   ]
  },
  {
   "cell_type": "code",
   "execution_count": 4,
   "id": "4b2530e2",
   "metadata": {},
   "outputs": [],
   "source": [
    "import torch\n",
    "import torchvision\n",
    "import torchmetrics \n",
    "import requests\n",
    "import matplotlib.pyplot as plt \n",
    "import numpy \n",
    "import zipfile\n",
    "\n",
    "\n",
    "from pathlib import Path\n",
    "from torch import nn \n",
    "\n"
   ]
  },
  {
   "cell_type": "code",
   "execution_count": 2,
   "id": "6b604bd7",
   "metadata": {},
   "outputs": [
    {
     "data": {
      "text/plain": [
       "device(type='cuda')"
      ]
     },
     "execution_count": 2,
     "metadata": {},
     "output_type": "execute_result"
    }
   ],
   "source": [
    "device = torch.device('cuda' if torch.cuda.is_available() else 'cpu')\n",
    "device\n"
   ]
  },
  {
   "cell_type": "markdown",
   "id": "f158c8ad",
   "metadata": {
    "jp-MarkdownHeadingCollapsed": true
   },
   "source": [
    "## Get our dataset "
   ]
  },
  {
   "cell_type": "code",
   "execution_count": 8,
   "id": "9f149b40",
   "metadata": {},
   "outputs": [],
   "source": [
    "def download_and_extract_zip(url: str, download_dir: Path, zip_filename: str, extract_to: str):\n",
    "    \"\"\"\n",
    "    Downloads a ZIP file from the given URL and extracts it.\n",
    "\n",
    "    Args:\n",
    "        url (str): URL to the ZIP file.\n",
    "        download_dir (Path): Path object where ZIP file will be saved and data extracted.\n",
    "        zip_filename (str): Name of the ZIP file to save.\n",
    "        extract_to (str): Name of the directory to extract contents into (relative to download_dir).\n",
    "    \"\"\"\n",
    "    download_dir.mkdir(parents=True, exist_ok=True)\n",
    "\n",
    "    zip_path = download_dir / zip_filename\n",
    "    extract_path = download_dir / extract_to\n",
    "\n",
    "    print(f\"Downloading ZIP file from {url}...\")\n",
    "    response = requests.get(url)\n",
    "    zip_path.write_bytes(response.content)\n",
    "\n",
    "    print(f\"Extracting to {extract_path}...\")\n",
    "    with zipfile.ZipFile(zip_path, 'r') as zip_ref:\n",
    "        zip_ref.extractall(path=extract_path)\n",
    "    \n",
    "    try:\n",
    "        zip_path.unlink()\n",
    "        print(\"ZIP file deleted.\")\n",
    "    except Exception as e:\n",
    "        print(f\"Failed to delete ZIP file: {e}\")\n",
    "\n",
    "    print(\"Download and extraction complete.\")\n",
    "\n",
    "\n",
    "\n"
   ]
  },
  {
   "cell_type": "code",
   "execution_count": 9,
   "id": "817a8b58",
   "metadata": {},
   "outputs": [
    {
     "name": "stdout",
     "output_type": "stream",
     "text": [
      "Downloading ZIP file from https://github.com/mrdbourke/pytorch-deep-learning/raw/refs/heads/main/data/pizza_steak_sushi_20_percent.zip...\n",
      "Extracting to ../Data/piza_sushi...\n",
      "ZIP file deleted.\n",
      "Download and extraction complete.\n"
     ]
    }
   ],
   "source": [
    "URL = \"https://github.com/mrdbourke/pytorch-deep-learning/raw/refs/heads/main/data/pizza_steak_sushi_20_percent.zip\"\n",
    "PATH = Path(\"../Data\")\n",
    "ZIP = \"custom_data.zip\"\n",
    "IMAGE = \"piza_sushi\"\n",
    "\n",
    "download_and_extract_zip(URL, PATH, ZIP, IMAGE)\n"
   ]
  },
  {
   "cell_type": "markdown",
   "id": "7ff653c9",
   "metadata": {},
   "source": [
    "## Preparing the dataset"
   ]
  },
  {
   "cell_type": "code",
   "execution_count": null,
   "id": "fee69440-2202-4035-9e15-fb98c501b698",
   "metadata": {},
   "outputs": [],
   "source": []
  },
  {
   "cell_type": "code",
   "execution_count": null,
   "id": "09a96978-abc3-4125-acb7-f66e0efe3cc9",
   "metadata": {},
   "outputs": [],
   "source": []
  },
  {
   "cell_type": "code",
   "execution_count": null,
   "id": "8f4c106b-baa0-44d2-8e02-f3931c02c2be",
   "metadata": {},
   "outputs": [],
   "source": []
  },
  {
   "cell_type": "code",
   "execution_count": null,
   "id": "98272976-6ad5-4f95-8026-8a283c18d91e",
   "metadata": {},
   "outputs": [],
   "source": []
  },
  {
   "cell_type": "code",
   "execution_count": null,
   "id": "30109001-68c0-459c-a84c-c8d9f92f8824",
   "metadata": {},
   "outputs": [],
   "source": []
  },
  {
   "cell_type": "code",
   "execution_count": null,
   "id": "ab8d37b7-1014-4dc8-ab94-60b25044bea5",
   "metadata": {},
   "outputs": [],
   "source": []
  },
  {
   "cell_type": "code",
   "execution_count": null,
   "id": "5a535df6-2ca5-4e8c-8b1c-b227419137b8",
   "metadata": {},
   "outputs": [],
   "source": []
  },
  {
   "cell_type": "code",
   "execution_count": null,
   "id": "8295b339-3e5c-4a6a-8b85-dc0d99f3ad75",
   "metadata": {},
   "outputs": [],
   "source": []
  },
  {
   "cell_type": "code",
   "execution_count": null,
   "id": "7eeb7bca-4522-484e-ab9c-d1f3ce9acb03",
   "metadata": {},
   "outputs": [],
   "source": []
  },
  {
   "cell_type": "code",
   "execution_count": null,
   "id": "d245c8c3-5093-4a9c-8a1a-de82bbc76e5d",
   "metadata": {},
   "outputs": [],
   "source": []
  },
  {
   "cell_type": "code",
   "execution_count": null,
   "id": "7f0a2669-a1fb-4e09-ad40-506caa25ffa6",
   "metadata": {},
   "outputs": [],
   "source": []
  },
  {
   "cell_type": "code",
   "execution_count": null,
   "id": "635e40e6-0d0a-482a-9d62-8e311d6cf7b9",
   "metadata": {},
   "outputs": [],
   "source": []
  },
  {
   "cell_type": "code",
   "execution_count": null,
   "id": "598b71d2-2287-444b-b707-ca3bcf0eb78d",
   "metadata": {},
   "outputs": [],
   "source": []
  },
  {
   "cell_type": "code",
   "execution_count": null,
   "id": "2d1b2dc7-5fd6-4255-bff6-187e2a0c57ca",
   "metadata": {},
   "outputs": [],
   "source": []
  },
  {
   "cell_type": "code",
   "execution_count": null,
   "id": "36e93276-a382-4071-a1ce-ebc723c329d2",
   "metadata": {},
   "outputs": [],
   "source": []
  },
  {
   "cell_type": "code",
   "execution_count": null,
   "id": "da5a8834-1426-4623-888f-0f7fc5dc6e30",
   "metadata": {},
   "outputs": [],
   "source": []
  },
  {
   "cell_type": "code",
   "execution_count": null,
   "id": "1b63bb9a-a3d2-434d-a2ab-115409e6f016",
   "metadata": {},
   "outputs": [],
   "source": []
  },
  {
   "cell_type": "code",
   "execution_count": null,
   "id": "7e256828-4970-48cb-b701-10b4b753a9fa",
   "metadata": {},
   "outputs": [],
   "source": []
  },
  {
   "cell_type": "code",
   "execution_count": null,
   "id": "f3514fa9-59cd-4c65-a0bc-fa5512677847",
   "metadata": {},
   "outputs": [],
   "source": []
  },
  {
   "cell_type": "code",
   "execution_count": null,
   "id": "71c58b5a-7125-44c5-8b83-14db9abe1013",
   "metadata": {},
   "outputs": [],
   "source": []
  },
  {
   "cell_type": "code",
   "execution_count": null,
   "id": "0c8d5fb6-3f19-4609-a3d4-a76bce143ab0",
   "metadata": {},
   "outputs": [],
   "source": []
  },
  {
   "cell_type": "code",
   "execution_count": null,
   "id": "3133487f-50f1-4376-ae80-e1594eb8cac0",
   "metadata": {},
   "outputs": [],
   "source": []
  },
  {
   "cell_type": "code",
   "execution_count": null,
   "id": "2524a831-fde8-4fd5-982c-125262bad91f",
   "metadata": {},
   "outputs": [],
   "source": []
  },
  {
   "cell_type": "code",
   "execution_count": null,
   "id": "36329459-ce40-4f9c-bb11-38658c07e6ae",
   "metadata": {},
   "outputs": [],
   "source": []
  },
  {
   "cell_type": "code",
   "execution_count": null,
   "id": "59519e5c-5770-4546-8e24-7b172dafe7aa",
   "metadata": {},
   "outputs": [],
   "source": []
  },
  {
   "cell_type": "code",
   "execution_count": null,
   "id": "491f3ada",
   "metadata": {},
   "outputs": [],
   "source": []
  },
  {
   "cell_type": "code",
   "execution_count": null,
   "id": "7fa67f6c",
   "metadata": {},
   "outputs": [],
   "source": []
  },
  {
   "cell_type": "code",
   "execution_count": null,
   "id": "7db2592f",
   "metadata": {},
   "outputs": [],
   "source": []
  },
  {
   "cell_type": "code",
   "execution_count": null,
   "id": "96c1e881-2b19-48cb-b39a-60d22b229655",
   "metadata": {},
   "outputs": [],
   "source": []
  }
 ],
 "metadata": {
  "kernelspec": {
   "display_name": "PTDL",
   "language": "python",
   "name": ".ptdl-venv"
  },
  "language_info": {
   "codemirror_mode": {
    "name": "ipython",
    "version": 3
   },
   "file_extension": ".py",
   "mimetype": "text/x-python",
   "name": "python",
   "nbconvert_exporter": "python",
   "pygments_lexer": "ipython3",
   "version": "3.10.17"
  }
 },
 "nbformat": 4,
 "nbformat_minor": 5
}
