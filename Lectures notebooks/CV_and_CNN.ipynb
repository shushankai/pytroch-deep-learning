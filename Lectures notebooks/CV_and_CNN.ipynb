{
 "cells": [
  {
   "cell_type": "markdown",
   "id": "5aa1fe53",
   "metadata": {},
   "source": [
    "# Computer Vision and Convolutional Neural Network"
   ]
  },
  {
   "cell_type": "markdown",
   "id": "a1c742ba",
   "metadata": {},
   "source": [
    "## What we're going to cover\n"
   ]
  },
  {
   "cell_type": "markdown",
   "id": "d9c96989",
   "metadata": {},
   "source": [
    "\n",
    "We're going to apply the PyTorch Workflow we've been learning in the past couple of sections to computer vision.\n",
    "\n",
    "![a PyTorch workflow with a computer vision focus](https://raw.githubusercontent.com/mrdbourke/pytorch-deep-learning/main/images/03-pytorch-computer-vision-workflow.png)\n",
    "\n",
    "Specifically, we're going to cover:\n",
    "\n",
    "| **Topic** | **Contents** |\n",
    "| ----- | ----- |\n",
    "| **0. Computer vision libraries in PyTorch** | PyTorch has a bunch of built-in helpful computer vision libraries, let's check them out.  |\n",
    "| **1. Load data** | To practice computer vision, we'll start with some images of different pieces of clothing from [FashionMNIST](https://github.com/zalandoresearch/fashion-mnist). |\n",
    "| **2. Prepare data** | We've got some images, let's load them in with a [PyTorch `DataLoader`](https://pytorch.org/docs/stable/data.html) so we can use them with our training loop. |\n",
    "| **3. Model 0: Building a baseline model** | Here we'll create a multi-class classification model to learn patterns in the data, we'll also choose a **loss function**, **optimizer** and build a **training loop**. | \n",
    "| **4. Making predictions and evaluating model 0** | Let's make some predictions with our baseline model and evaluate them. |\n",
    "| **5. Setup device agnostic code for future models** | It's best practice to write device-agnostic code, so let's set it up. |\n",
    "| **6. Model 1: Adding non-linearity** | Experimenting is a large part of machine learning, let's try and improve upon our baseline model by adding non-linear layers. |\n",
    "| **7. Model 2: Convolutional Neural Network (CNN)** | Time to get computer vision specific and introduce the powerful convolutional neural network architecture. |\n",
    "| **8. Comparing our models** | We've built three different models, let's compare them. |\n",
    "| **9. Evaluating our best model** | Let's make some predictions on random images and evaluate our best model. |\n",
    "| **10. Making a confusion matrix** | A confusion matrix is a great way to evaluate a classification model, let's see how we can make one. |\n",
    "| **11. Saving and loading the best performing model** | Since we might want to use our model for later, let's save it and make sure it loads back in correctly. |"
   ]
  },
  {
   "cell_type": "markdown",
   "id": "b8b48328",
   "metadata": {},
   "source": [
    "**0. Computer vision libraries in PyTorch**\n",
    "\n",
    "Before we get started writing code, let's talk about some PyTorch computer vision libraries you should be aware of.\n",
    "\n",
    "| PyTorch module | What does it do? |\n",
    "| ----- | ----- |\n",
    "| [`torchvision`](https://pytorch.org/vision/stable/index.html) | Contains datasets, model architectures and image transformations often used for computer vision problems. |\n",
    "| [`torchvision.datasets`](https://pytorch.org/vision/stable/datasets.html) | Here you'll find many example computer vision datasets for a range of problems from image classification, object detection, image captioning, video classification and more. It also contains [a series of base classes for making custom datasets](https://pytorch.org/vision/stable/datasets.html#base-classes-for-custom-datasets). |\n",
    "| [`torchvision.models`](https://pytorch.org/vision/stable/models.html) | This module contains well-performing and commonly used computer vision model architectures implemented in PyTorch, you can use these with your own problems. | \n",
    "| [`torchvision.transforms`](https://pytorch.org/vision/stable/transforms.html) | Often images need to be transformed (turned into numbers/processed/augmented) before being used with a model, common image transformations are found here. | \n",
    "| [`torch.utils.data.Dataset`](https://pytorch.org/docs/stable/data.html#torch.utils.data.Dataset) | Base dataset class for PyTorch.  | \n",
    "| [`torch.utils.data.DataLoader`](https://pytorch.org/docs/stable/data.html#module-torch.utils.data) | Creates a Python iterable over a dataset (created with `torch.utils.data.Dataset`). |\n",
    "\n",
    "> **Note:** The `torch.utils.data.Dataset` and `torch.utils.data.DataLoader` classes aren't only for computer vision in PyTorch, they are capable of dealing with many different types of data.\n",
    "\n",
    "Now we've covered some of the most important PyTorch computer vision libraries, let's import the relevant dependencies.\n"
   ]
  },
  {
   "cell_type": "markdown",
   "id": "137e6141",
   "metadata": {},
   "source": [
    "## Imports"
   ]
  },
  {
   "cell_type": "code",
   "execution_count": 105,
   "id": "79f60751",
   "metadata": {},
   "outputs": [
    {
     "name": "stdout",
     "output_type": "stream",
     "text": [
      "The autoreload extension is already loaded. To reload it, use:\n",
      "  %reload_ext autoreload\n"
     ]
    }
   ],
   "source": [
    "# Import pytorch\n",
    "import torch\n",
    "from torch import nn\n",
    "\n",
    "# Import TorchVision\n",
    "import torchvision\n",
    "from torchvision import datasets\n",
    "from torchvision import transforms\n",
    "from torchvision.transforms import ToTensor\n",
    "\n",
    "\n",
    "import numpy as np \n",
    "import matplotlib.pyplot as plt \n",
    "\n",
    "%load_ext autoreload\n",
    "%autoreload 2 \n"
   ]
  },
  {
   "cell_type": "code",
   "execution_count": 106,
   "id": "2edc8eb6",
   "metadata": {},
   "outputs": [
    {
     "name": "stdout",
     "output_type": "stream",
     "text": [
      "PyTorch Version: 2.7.0+cu126 & TorchVision Version: 0.22.0+cu126\n"
     ]
    }
   ],
   "source": [
    "print(f\"PyTorch Version: {torch.__version__} & TorchVision Version: {torchvision.__version__}\")\n"
   ]
  },
  {
   "cell_type": "code",
   "execution_count": 107,
   "id": "092b1ea3",
   "metadata": {},
   "outputs": [
    {
     "data": {
      "text/plain": [
       "device(type='cuda')"
      ]
     },
     "execution_count": 107,
     "metadata": {},
     "output_type": "execute_result"
    }
   ],
   "source": [
    "DEVICE = torch.device('cuda' if torch.cuda.is_available() else 'cpu')\n",
    "DEVICE\n"
   ]
  },
  {
   "cell_type": "markdown",
   "id": "f36ec29e",
   "metadata": {},
   "source": [
    "## Getting Dataset"
   ]
  },
  {
   "cell_type": "markdown",
   "id": "88892c60",
   "metadata": {},
   "source": [
    "We will be using ([FashionMNIST](https://github.com/zalandoresearch/fashion-mnist)) "
   ]
  },
  {
   "cell_type": "code",
   "execution_count": 108,
   "id": "9013171a",
   "metadata": {},
   "outputs": [],
   "source": [
    "train_data = datasets.FashionMNIST(root=f\"/home/shushanksingh/work/pytroch-deep-learning/Data\", \n",
    "                                train=True, \n",
    "                                download=True, \n",
    "                                transform=ToTensor(),\n",
    "                                target_transform=None\n",
    "                                )\n",
    "\n",
    "test_data = datasets.FashionMNIST(root=f\"/home/shushanksingh/work/pytroch-deep-learning/Data\",\n",
    "                                  train= False, \n",
    "                                  transform=ToTensor(),\n",
    "                                  target_transform=None,\n",
    "                                  download=True\n",
    "                                  )\n"
   ]
  },
  {
   "cell_type": "code",
   "execution_count": 109,
   "id": "8bcc00fb",
   "metadata": {},
   "outputs": [
    {
     "data": {
      "text/plain": [
       "(60000, 10000, torchvision.datasets.mnist.FashionMNIST)"
      ]
     },
     "execution_count": 109,
     "metadata": {},
     "output_type": "execute_result"
    }
   ],
   "source": [
    "len(train_data), len(test_data), type(train_data)\n"
   ]
  },
  {
   "cell_type": "code",
   "execution_count": 110,
   "id": "95d70033",
   "metadata": {},
   "outputs": [
    {
     "name": "stdout",
     "output_type": "stream",
     "text": [
      "Shape of Image is: torch.Size([1, 28, 28]) -> [color_channel, height, width] and the label for this image is: 9\n"
     ]
    }
   ],
   "source": [
    "image, label = train_data[0]\n",
    "print(f\"Shape of Image is: {image.shape} -> [color_channel, height, width] and the label for this image is: {label}\")\n",
    "# 1 as color channel means its a black and white image\n"
   ]
  },
  {
   "cell_type": "code",
   "execution_count": 111,
   "id": "a7409025",
   "metadata": {},
   "outputs": [
    {
     "name": "stdout",
     "output_type": "stream",
     "text": [
      "['T-shirt/top', 'Trouser', 'Pullover', 'Dress', 'Coat', 'Sandal', 'Shirt', 'Sneaker', 'Bag', 'Ankle boot']\n",
      "{'T-shirt/top': 0, 'Trouser': 1, 'Pullover': 2, 'Dress': 3, 'Coat': 4, 'Sandal': 5, 'Shirt': 6, 'Sneaker': 7, 'Bag': 8, 'Ankle boot': 9}\n",
      "Image at index 0 is of classes : Ankle boot\n"
     ]
    }
   ],
   "source": [
    "classes = train_data.classes\n",
    "print(classes)\n",
    "print(train_data.class_to_idx)\n",
    "print(f\"Image at index 0 is of classes : {train_data.classes[label]}\")\n"
   ]
  },
  {
   "cell_type": "code",
   "execution_count": 112,
   "id": "d0e676e4",
   "metadata": {},
   "outputs": [
    {
     "data": {
      "image/png": "[encoded data removed]",
      "text/plain": [
       "<Figure size 640x480 with 1 Axes>"
      ]
     },
     "metadata": {},
     "output_type": "display_data"
    }
   ],
   "source": [
    "plt.imshow(image.squeeze());\n",
    "plt.title(classes[label]);\n",
    "plt.axis(False);\n"
   ]
  },
  {
   "cell_type": "code",
   "execution_count": 113,
   "id": "7fecb26f",
   "metadata": {},
   "outputs": [
    {
     "data": {
      "image/png": "[encoded data removed]",
      "text/plain": [
       "<Figure size 640x480 with 1 Axes>"
      ]
     },
     "metadata": {},
     "output_type": "display_data"
    }
   ],
   "source": [
    "plt.imshow(image.squeeze(), cmap='grey');\n",
    "plt.title(classes[label]);\n",
    "plt.axis(False);\n"
   ]
  },
  {
   "cell_type": "code",
   "execution_count": 114,
   "id": "3258b414",
   "metadata": {},
   "outputs": [
    {
     "data": {
      "image/png": "[encoded data removed]",
      "text/plain": [
       "<Figure size 900x900 with 16 Axes>"
      ]
     },
     "metadata": {},
     "output_type": "display_data"
    }
   ],
   "source": [
    "# plotting a subset of images from the dataset\n",
    "torch.manual_seed(42)\n",
    "fig = plt.figure(figsize=(9, 9))\n",
    "row , col = 4, 4\n",
    "for i in range(1, row*col + 1):\n",
    "    randindx = torch.randint(low = 0, high= len(train_data),  size=[1]).item()\n",
    "    img , label = train_data[randindx]\n",
    "    fig.add_subplot(row, col, i)\n",
    "    plt.imshow(img.squeeze(), cmap='grey')\n",
    "    plt.title(classes[label])\n",
    "    plt.axis(False);\n"
   ]
  },
  {
   "cell_type": "markdown",
   "id": "a956cd13",
   "metadata": {},
   "source": [
    "## Dataloader\n"
   ]
  },
  {
   "cell_type": "code",
   "execution_count": 115,
   "id": "aa4a07e2",
   "metadata": {},
   "outputs": [
    {
     "data": {
      "text/plain": [
       "(Dataset FashionMNIST\n",
       "     Number of datapoints: 60000\n",
       "     Root location: /home/shushanksingh/work/pytroch-deep-learning/Data\n",
       "     Split: Train\n",
       "     StandardTransform\n",
       " Transform: ToTensor(),\n",
       " Dataset FashionMNIST\n",
       "     Number of datapoints: 10000\n",
       "     Root location: /home/shushanksingh/work/pytroch-deep-learning/Data\n",
       "     Split: Test\n",
       "     StandardTransform\n",
       " Transform: ToTensor())"
      ]
     },
     "execution_count": 115,
     "metadata": {},
     "output_type": "execute_result"
    }
   ],
   "source": [
    "train_data, test_data\n"
   ]
  },
  {
   "cell_type": "markdown",
   "id": "601cde03",
   "metadata": {},
   "source": [
    "So write now our data is in pytroch datasets but we need it to convert it into dataloader       \n",
    "A Dataloader load the data into the model in batches (min-batches)  \n",
    "Batches : it more computationally efficient and it gives our neural network chances to update its gradients per epoch"
   ]
  },
  {
   "cell_type": "code",
   "execution_count": 116,
   "id": "a78664a3",
   "metadata": {},
   "outputs": [],
   "source": [
    "from torch.utils.data import DataLoader\n",
    "\n",
    "\n",
    "BATCH_SIZE = 32 \n",
    "\n",
    "train_dataloader = DataLoader(\n",
    "    dataset= train_data, \n",
    "    shuffle=True, \n",
    "    batch_size= BATCH_SIZE,\n",
    "    drop_last= True\n",
    ")\n",
    "\n",
    "\n",
    "test_dataloader = DataLoader(\n",
    "    dataset = test_data,\n",
    "    batch_size= BATCH_SIZE, \n",
    "    shuffle = False\n",
    ")\n"
   ]
  },
  {
   "cell_type": "code",
   "execution_count": 117,
   "id": "6dd05c54",
   "metadata": {},
   "outputs": [
    {
     "name": "stdout",
     "output_type": "stream",
     "text": [
      "Dataloaders: (<torch.utils.data.dataloader.DataLoader object at 0x7f670c56a2c0>, <torch.utils.data.dataloader.DataLoader object at 0x7f670c6764d0>)\n",
      "Length of training dataloader: 1875 of batch size 32\n",
      "Length of training dataloader: 313 of batch size 32\n"
     ]
    }
   ],
   "source": [
    "print(f'Dataloaders: {train_dataloader, test_dataloader}')\n",
    "print(f\"Length of training dataloader: {len(train_dataloader)} of batch size {BATCH_SIZE}\")\n",
    "print(f\"Length of training dataloader: {len(test_dataloader)} of batch size {BATCH_SIZE}\")\n"
   ]
  },
  {
   "cell_type": "code",
   "execution_count": 118,
   "id": "a80c3e04",
   "metadata": {},
   "outputs": [
    {
     "name": "stdout",
     "output_type": "stream",
     "text": [
      "torch.Size([32, 1, 28, 28]) torch.Size([32])\n"
     ]
    }
   ],
   "source": [
    "# what inside our data loader \n",
    "train_features_batch, train_label_batch = next(iter(train_dataloader))  # converted the loader into iterable and getting the next \n",
    "# as our dataloader contains 1872 iterables \n",
    "\n",
    "print(train_features_batch.shape, train_label_batch.shape)\n",
    "\n",
    "# [32, 1, 28, 28] - batch_size, color channel, height, width\n"
   ]
  },
  {
   "cell_type": "code",
   "execution_count": 119,
   "id": "0eb32f8c",
   "metadata": {},
   "outputs": [
    {
     "data": {
      "image/png": "[encoded data removed]",
      "text/plain": [
       "<Figure size 640x480 with 1 Axes>"
      ]
     },
     "metadata": {},
     "output_type": "display_data"
    }
   ],
   "source": [
    "torch.manual_seed(42)\n",
    "randomIdx = torch.randint(0, len(train_features_batch), [1]).item()\n",
    "img, label = train_features_batch[randomIdx], train_label_batch[randomIdx]\n",
    "plt.imshow(img.squeeze(), cmap='grey');\n",
    "plt.title(classes[label]);\n",
    "plt.axis(False);\n"
   ]
  },
  {
   "cell_type": "markdown",
   "id": "0ad36657",
   "metadata": {},
   "source": [
    "## Building model_0: baseline with two linear layers"
   ]
  },
  {
   "cell_type": "markdown",
   "id": "672e3551",
   "metadata": {},
   "source": [
    "A **baseline model** is one of the simplest models you can imagine.\n",
    "\n",
    "You use the baseline as a starting point and try to improve upon it with subsequent, more complicated models.\n",
    "\n",
    "Our baseline will consist of two [`nn.Linear()`](https://pytorch.org/docs/stable/generated/torch.nn.Linear.html) layers."
   ]
  },
  {
   "cell_type": "code",
   "execution_count": 120,
   "id": "5a8c63c3",
   "metadata": {},
   "outputs": [
    {
     "name": "stdout",
     "output_type": "stream",
     "text": [
      "Size of x: torch.Size([1, 28, 28]), and size of output: torch.Size([1, 784])\n"
     ]
    }
   ],
   "source": [
    "flatten = nn.Flatten()\n",
    "x = train_features_batch[0]\n",
    "\n",
    "output = flatten(x) # this internally does the forward pass \n",
    "print(f\"Size of x: {x.shape}, and size of output: {output.shape}\")\n",
    "# x [1, 28, 28] and output = [1, 28*28] -> [1, 784]\n"
   ]
  },
  {
   "cell_type": "code",
   "execution_count": 121,
   "id": "5d3904b5",
   "metadata": {},
   "outputs": [],
   "source": [
    "# Model\n",
    "\n",
    "class FashionMNISTModel0(nn.Module):\n",
    "    \"\"\"\n",
    "    Baseline neural network model for FashionMNIST classification.\n",
    "\n",
    "    This model consists of:\n",
    "    - A flattening layer to convert 2D image input into a 1D vector.\n",
    "    - One hidden linear layer.\n",
    "    - An output linear layer for classification.\n",
    "\n",
    "    Args:\n",
    "        input_features (int): Number of input features (e.g., 28*28 for 28x28 images).\n",
    "        output_features (int): Number of output classes (e.g., 10 for FashionMNIST).\n",
    "        hidden_units (int): Number of units in the hidden layer.\n",
    "\n",
    "    Example:\n",
    "        model = FashionMNISTModel0(input_features=784, output_features=10, hidden_units=10)\n",
    "        output = model(torch.randn(32, 1, 28, 28))  # Forward pass with batch of 32 images\n",
    "    \"\"\"\n",
    "    def __init__(\n",
    "            self, \n",
    "            input_features: int, \n",
    "            output_features: int, \n",
    "            hidden_units: int\n",
    "    ):\n",
    "        super().__init__()\n",
    "        # Sequential stack of layers:\n",
    "        # 1. Flatten input from [batch, 1, 28, 28] to [batch, 784]\n",
    "        # 2. Linear layer mapping input to hidden units\n",
    "        # 3. Linear layer mapping hidden units to output classes\n",
    "        self.layer_stack = nn.Sequential(\n",
    "            nn.Flatten(),\n",
    "            nn.Linear(in_features=input_features, out_features=hidden_units),\n",
    "            nn.Linear(in_features=hidden_units, out_features=output_features)\n",
    "        )   \n",
    "    \n",
    "    def forward(self, x):\n",
    "        \"\"\"\n",
    "        Forward pass of the model.\n",
    "\n",
    "        Args:\n",
    "            x (torch.Tensor): Input tensor of shape [batch_size, 1, 28, 28].\n",
    "\n",
    "        Returns:\n",
    "            torch.Tensor: Output logits of shape [batch_size, output_features].\n",
    "        \"\"\"\n",
    "        return self.layer_stack(x)\n"
   ]
  },
  {
   "cell_type": "code",
   "execution_count": 122,
   "id": "ac983889",
   "metadata": {},
   "outputs": [
    {
     "data": {
      "text/plain": [
       "FashionMNISTModel0(\n",
       "  (layer_stack): Sequential(\n",
       "    (0): Flatten(start_dim=1, end_dim=-1)\n",
       "    (1): Linear(in_features=784, out_features=10, bias=True)\n",
       "    (2): Linear(in_features=10, out_features=10, bias=True)\n",
       "  )\n",
       ")"
      ]
     },
     "execution_count": 122,
     "metadata": {},
     "output_type": "execute_result"
    }
   ],
   "source": [
    "model_0 = FashionMNISTModel0(input_features=28*28,  # Image height*width\n",
    "                             output_features=10, # Number of class \n",
    "                             hidden_units=10\n",
    "                             ).to(DEVICE)\n",
    "model_0\n"
   ]
  },
  {
   "cell_type": "code",
   "execution_count": 123,
   "id": "4e630c48",
   "metadata": {},
   "outputs": [
    {
     "name": "stdout",
     "output_type": "stream",
     "text": [
      "Total number of parameters in the model: 7960\n"
     ]
    }
   ],
   "source": [
    "def get_model_parameters(model):\n",
    "    total_params = sum(p.numel() for p in model.parameters())\n",
    "    return total_params\n",
    "\n",
    "total_params = get_model_parameters(model_0)\n",
    "print(f\"Total number of parameters in the model: {total_params}\")\n"
   ]
  },
  {
   "cell_type": "code",
   "execution_count": 124,
   "id": "41ee6144",
   "metadata": {},
   "outputs": [],
   "source": [
    "# dummy_img = torch.rand([1, 1, 28, 28]).to(DEVICE)\n",
    "# print(model_0(dummy_img).shape)\n"
   ]
  },
  {
   "cell_type": "code",
   "execution_count": 125,
   "id": "8830085b",
   "metadata": {},
   "outputs": [
    {
     "data": {
      "text/plain": [
       "OrderedDict([('layer_stack.1.weight',\n",
       "              tensor([[ 0.0296, -0.0084,  0.0328,  ...,  0.0093,  0.0135, -0.0188],\n",
       "                      [-0.0354,  0.0187,  0.0085,  ..., -0.0001,  0.0115, -0.0008],\n",
       "                      [ 0.0017,  0.0045,  0.0133,  ..., -0.0188,  0.0059,  0.0100],\n",
       "                      ...,\n",
       "                      [ 0.0273, -0.0344,  0.0127,  ...,  0.0283, -0.0011, -0.0230],\n",
       "                      [ 0.0257,  0.0291,  0.0243,  ..., -0.0087,  0.0001,  0.0176],\n",
       "                      [-0.0147,  0.0053, -0.0194,  ..., -0.0221,  0.0205, -0.0093]],\n",
       "                     device='cuda:0')),\n",
       "             ('layer_stack.1.bias',\n",
       "              tensor([ 0.0283, -0.0033,  0.0255,  0.0017,  0.0037, -0.0302, -0.0123,  0.0018,\n",
       "                       0.0163,  0.0069], device='cuda:0')),\n",
       "             ('layer_stack.2.weight',\n",
       "              tensor([[-0.0687,  0.0021,  0.2718,  0.2109,  0.1079, -0.2279, -0.1063,  0.2019,\n",
       "                        0.2847, -0.1495],\n",
       "                      [ 0.1344, -0.0740,  0.2006, -0.0475, -0.2514, -0.3130, -0.0118,  0.0932,\n",
       "                       -0.1864,  0.2488],\n",
       "                      [ 0.1500,  0.1907,  0.1457, -0.3050, -0.0580,  0.1643,  0.1565, -0.2877,\n",
       "                       -0.1792,  0.2305],\n",
       "                      [-0.2618,  0.2397, -0.0610,  0.0232,  0.1542,  0.0851, -0.2027,  0.1030,\n",
       "                       -0.2715, -0.1596],\n",
       "                      [-0.0555, -0.0633,  0.2302, -0.1726,  0.2654,  0.1473,  0.1029,  0.2252,\n",
       "                       -0.2160, -0.2725],\n",
       "                      [ 0.0118,  0.1559,  0.1596,  0.0132,  0.3024,  0.1124,  0.1366, -0.1533,\n",
       "                        0.0965, -0.1184],\n",
       "                      [-0.2555, -0.2057, -0.1909, -0.0477, -0.1324,  0.2905,  0.1307, -0.2629,\n",
       "                        0.0133,  0.2727],\n",
       "                      [-0.0127,  0.0513,  0.0863, -0.1043, -0.2047, -0.1185, -0.0825,  0.2488,\n",
       "                       -0.2571,  0.0425],\n",
       "                      [-0.1209, -0.0336, -0.0281, -0.1227,  0.0730,  0.0747, -0.1816,  0.1943,\n",
       "                        0.2853, -0.1310],\n",
       "                      [ 0.0645, -0.1171,  0.2168, -0.0245, -0.2820,  0.0736,  0.2621,  0.0012,\n",
       "                       -0.0810, -0.0087]], device='cuda:0')),\n",
       "             ('layer_stack.2.bias',\n",
       "              tensor([ 0.1791,  0.2712, -0.0791,  0.1685,  0.1762,  0.2825,  0.2266, -0.2612,\n",
       "                      -0.2613, -0.2624], device='cuda:0'))])"
      ]
     },
     "execution_count": 125,
     "metadata": {},
     "output_type": "execute_result"
    }
   ],
   "source": [
    "model_0.state_dict()\n"
   ]
  },
  {
   "cell_type": "markdown",
   "id": "6eb81396",
   "metadata": {},
   "source": [
    "## Loss function, optimizer, evaluations"
   ]
  },
  {
   "cell_type": "code",
   "execution_count": 126,
   "id": "5ae1f902",
   "metadata": {},
   "outputs": [],
   "source": [
    "import torchmetrics\n",
    "\n",
    "loss_fn = nn.CrossEntropyLoss()\n",
    "optimizer = torch.optim.SGD(params=model_0.parameters(), lr=0.1)\n",
    "accuracy_fn = torchmetrics.Accuracy(task=\"multiclass\", num_classes=10).to(DEVICE)\n"
   ]
  },
  {
   "cell_type": "markdown",
   "id": "ee07ebe8",
   "metadata": {},
   "source": [
    "## Timing function"
   ]
  },
  {
   "cell_type": "code",
   "execution_count": 127,
   "id": "691f3ac0",
   "metadata": {},
   "outputs": [],
   "source": [
    "from timeit import default_timer as timer\n",
    "\n",
    "def print_train_time(start: float, end: float, device: torch.device = 'cpu'):\n",
    "    time = end -start \n",
    "    print(f\"Time Taken on device {device}: {time:.3f} seconds\")\n"
   ]
  },
  {
   "cell_type": "markdown",
   "id": "e832f00c",
   "metadata": {},
   "source": [
    "## Training and Testing\n"
   ]
  },
  {
   "cell_type": "code",
   "execution_count": 128,
   "id": "66983b94",
   "metadata": {},
   "outputs": [
    {
     "name": "stderr",
     "output_type": "stream",
     "text": [
      "  0%|          | 0/3 [00:00<?, ?it/s]"
     ]
    },
    {
     "name": "stdout",
     "output_type": "stream",
     "text": [
      "epoch: 0\n",
      "---------\n",
      "Looked at 0/ 60000 samples\n"
     ]
    },
    {
     "name": "stdout",
     "output_type": "stream",
     "text": [
      "Looked at 12800/ 60000 samples\n",
      "Looked at 25600/ 60000 samples\n",
      "Looked at 38400/ 60000 samples\n",
      "Looked at 51200/ 60000 samples\n"
     ]
    },
    {
     "name": "stderr",
     "output_type": "stream",
     "text": [
      " 33%|███▎      | 1/3 [00:08<00:17,  8.54s/it]"
     ]
    },
    {
     "name": "stdout",
     "output_type": "stream",
     "text": [
      "\n",
      "Train loss: 0.59484 | Test loss: 0.51635, Test acc: 0.82%\n",
      "\n",
      "epoch: 1\n",
      "---------\n",
      "Looked at 0/ 60000 samples\n",
      "Looked at 12800/ 60000 samples\n",
      "Looked at 25600/ 60000 samples\n",
      "Looked at 38400/ 60000 samples\n",
      "Looked at 51200/ 60000 samples\n"
     ]
    },
    {
     "name": "stderr",
     "output_type": "stream",
     "text": [
      " 67%|██████▋   | 2/3 [00:16<00:08,  8.46s/it]"
     ]
    },
    {
     "name": "stdout",
     "output_type": "stream",
     "text": [
      "\n",
      "Train loss: 0.47946 | Test loss: 0.48138, Test acc: 0.83%\n",
      "\n",
      "epoch: 2\n",
      "---------\n",
      "Looked at 0/ 60000 samples\n",
      "Looked at 12800/ 60000 samples\n",
      "Looked at 25600/ 60000 samples\n",
      "Looked at 38400/ 60000 samples\n",
      "Looked at 51200/ 60000 samples\n"
     ]
    },
    {
     "name": "stderr",
     "output_type": "stream",
     "text": [
      "100%|██████████| 3/3 [00:25<00:00,  8.41s/it]"
     ]
    },
    {
     "name": "stdout",
     "output_type": "stream",
     "text": [
      "\n",
      "Train loss: 0.45703 | Test loss: 0.47773, Test acc: 0.83%\n",
      "\n",
      "Time Taken on device cuda:0: 25.222 seconds\n"
     ]
    },
    {
     "name": "stderr",
     "output_type": "stream",
     "text": [
      "\n"
     ]
    }
   ],
   "source": [
    "from tqdm.auto import tqdm\n",
    "\n",
    "EPOCHS = 3\n",
    "\n",
    "# Set random seeds for reproducibility\n",
    "torch.manual_seed(42)\n",
    "torch.cuda.manual_seed(42)\n",
    "\n",
    "# Start timer to measure training time\n",
    "train_time_start_on_gpu = timer()\n",
    "\n",
    "for epoch in tqdm(range(EPOCHS)):\n",
    "    print(f'epoch: {epoch}\\n---------')\n",
    "\n",
    "    training_loss = 0  # Accumulate training loss for the epoch\n",
    "    for batch, (X, y) in enumerate(train_dataloader):\n",
    "        # Move data to the target device (CPU or GPU)\n",
    "        X, y = X.to(DEVICE), y.to(DEVICE)\n",
    "        # Set model to training mode\n",
    "        model_0.train()\n",
    "        \n",
    "        # Forward pass: compute predictions\n",
    "        y_preds = model_0(X)\n",
    "\n",
    "        # Compute loss for the batch\n",
    "        loss = loss_fn(y_preds, y)\n",
    "        training_loss += loss  # Accumulate batch loss\n",
    "\n",
    "        # Zero the gradients before backward pass\n",
    "        optimizer.zero_grad()\n",
    "\n",
    "        # Backward pass: compute gradients\n",
    "        loss.backward()\n",
    "\n",
    "        # Update model parameters\n",
    "        optimizer.step()\n",
    "\n",
    "        # Print progress every 400 batches\n",
    "        if batch % 400 == 0: \n",
    "            print(f'Looked at {batch * len(X)}/ {len(train_dataloader.dataset)} samples')\n",
    "    \n",
    "    # Average training loss over all batches\n",
    "    training_loss /= len(train_dataloader)\n",
    "\n",
    "    # Evaluate on the test dataset\n",
    "    test_loss, test_acc = 0, 0 \n",
    "    model_0.eval()  # Set model to evaluation mode\n",
    "    with torch.inference_mode():\n",
    "        for X, y in test_dataloader:\n",
    "            # Move test data to the target device\n",
    "            X, y = X.to(DEVICE), y.to(DEVICE)\n",
    "\n",
    "            # Forward pass: compute predictions\n",
    "            y_test_preds = model_0(X)\n",
    "\n",
    "            # Accumulate test loss\n",
    "            test_loss += loss_fn(y_test_preds, y)\n",
    "\n",
    "            # Accumulate test accuracy\n",
    "            test_acc += accuracy_fn(y_test_preds.argmax(dim=1), y)\n",
    "        \n",
    "        # Average test loss and accuracy over all batches\n",
    "        test_loss /= len(test_dataloader)\n",
    "        test_acc /= len(test_dataloader)\n",
    "\n",
    "    print(f\"\\nTrain loss: {training_loss:.5f} | Test loss: {test_loss:.5f}, Test acc: {test_acc:.2f}%\\n\")\n",
    "\n",
    "# End timer after training\n",
    "train_time_end_on_gpu = timer()\n",
    "\n",
    "# Print total training time\n",
    "print_train_time(start=train_time_start_on_gpu, \n",
    "                 end=train_time_end_on_gpu, \n",
    "                 device=str(next(model_0.parameters()).device))\n"
   ]
  },
  {
   "cell_type": "markdown",
   "id": "62c73fb3",
   "metadata": {},
   "source": [
    "## Make Predictions and Get results "
   ]
  },
  {
   "cell_type": "code",
   "execution_count": 129,
   "id": "7545e269",
   "metadata": {},
   "outputs": [],
   "source": [
    "def eval_model(model: torch.nn.Module, \n",
    "               data_loader: torch.utils.data.DataLoader, \n",
    "               accuracy: torchmetrics.Accuracy, \n",
    "               loss_fn: torch.nn.Module,\n",
    "               device: torch.device = 'cpu', \n",
    "               pretty_print: bool = True) -> dict:\n",
    "    \"\"\"\n",
    "    Evaluates a PyTorch model on a given dataset and optionally prints the results in a pretty format.\n",
    "\n",
    "    Args:\n",
    "        model (torch.nn.Module): The model to evaluate.\n",
    "        data_loader (torch.utils.data.DataLoader): DataLoader providing the evaluation dataset.\n",
    "        accuracy (torchmetrics.Accuracy): TorchMetrics accuracy object to compute accuracy.\n",
    "        loss_fn (torch.nn.Module): Loss function used to calculate model loss.\n",
    "        device (torch.device, optional): Device to run evaluation on ('cpu' or 'cuda'). Default is 'cpu'.\n",
    "        pretty_print (bool, optional): If True, prints the evaluation results in a formatted style. \n",
    "                                       If False, returns the results as a dictionary.\n",
    "\n",
    "    Returns:\n",
    "        dict: A dictionary containing model class name, average loss, accuracy, and device used,\n",
    "              only if pretty_print is False. If pretty_print is True, results are printed and None is returned.\n",
    "    \"\"\"\n",
    "\n",
    "    # Move model to the specified device and set it to evaluation mode\n",
    "    model.to(device)\n",
    "    model.eval()\n",
    "\n",
    "    # Reset accuracy metric at the beginning of evaluation\n",
    "    accuracy.reset()\n",
    "\n",
    "    # Initialize total loss accumulator\n",
    "    total_loss = 0.0\n",
    "\n",
    "    # Disable gradient calculation for memory efficiency and speed during inference\n",
    "    with torch.inference_mode():\n",
    "        for X, y in tqdm(data_loader):\n",
    "            # Move inputs and targets to the specified device\n",
    "            X, y = X.to(device), y.to(device)\n",
    "\n",
    "            # Forward pass: compute predictions\n",
    "            preds = model(X)\n",
    "\n",
    "            # Compute loss for the batch and accumulate it\n",
    "            loss = loss_fn(preds, y)\n",
    "            total_loss += loss.item()\n",
    "\n",
    "            # Update the accuracy metric using predicted and actual labels\n",
    "            accuracy.update(preds.argmax(dim=1), y)\n",
    "\n",
    "    # Calculate average loss over all batches\n",
    "    avg_loss = total_loss / len(data_loader)\n",
    "\n",
    "    # Compute final accuracy\n",
    "    final_acc = accuracy.compute()\n",
    "\n",
    "    # Pack results into a dictionary\n",
    "    result = {\n",
    "        \"model class Name\": model.__class__.__name__,\n",
    "        \"loss\": avg_loss,\n",
    "        \"acc\": final_acc.item(),\n",
    "        \"device\": str(device)\n",
    "    }\n",
    "\n",
    "    # Define a formatted string for pretty printing\n",
    "    pretty = (\n",
    "        \"\\n📊 Evaluation Results\\n\"\n",
    "        \"----------------------------\\n\"\n",
    "        f\"🧠 Model Class : {result['model class Name']}\\n\"\n",
    "        f\"💻 Device      : {result['device']}\\n\"\n",
    "        f\"🔢 Accuracy    : {result['acc'] * 100:.2f}%\\n\"\n",
    "        f\"📉 Loss        : {result['loss']:.4f}\\n\"\n",
    "    )\n",
    "\n",
    "    # Print the results prettily or return the raw result dictionary\n",
    "    if pretty_print:\n",
    "        print(pretty)\n",
    "    \n",
    "    return result\n"
   ]
  },
  {
   "cell_type": "code",
   "execution_count": 130,
   "id": "fa08fc2c",
   "metadata": {},
   "outputs": [
    {
     "name": "stderr",
     "output_type": "stream",
     "text": [
      " 20%|█▉        | 62/313 [00:00<00:00, 307.18it/s]"
     ]
    },
    {
     "name": "stderr",
     "output_type": "stream",
     "text": [
      "100%|██████████| 313/313 [00:01<00:00, 305.18it/s]"
     ]
    },
    {
     "name": "stdout",
     "output_type": "stream",
     "text": [
      "\n",
      "📊 Evaluation Results\n",
      "----------------------------\n",
      "🧠 Model Class : FashionMNISTModel0\n",
      "💻 Device      : cuda\n",
      "🔢 Accuracy    : 83.48%\n",
      "📉 Loss        : 0.4777\n",
      "\n"
     ]
    },
    {
     "name": "stderr",
     "output_type": "stream",
     "text": [
      "\n"
     ]
    },
    {
     "data": {
      "text/plain": [
       "{'model class Name': 'FashionMNISTModel0',\n",
       " 'loss': 0.4777319543658735,\n",
       " 'acc': 0.8348000049591064,\n",
       " 'device': 'cuda'}"
      ]
     },
     "execution_count": 130,
     "metadata": {},
     "output_type": "execute_result"
    }
   ],
   "source": [
    "eval_model(model=model_0, \n",
    "           data_loader=test_dataloader, \n",
    "           accuracy=accuracy_fn, \n",
    "           loss_fn=loss_fn, \n",
    "           device=DEVICE)\n"
   ]
  },
  {
   "cell_type": "markdown",
   "id": "aaa14c52",
   "metadata": {},
   "source": [
    "## Building a Better model with non-linearity"
   ]
  },
  {
   "cell_type": "code",
   "execution_count": 131,
   "id": "090633d9",
   "metadata": {},
   "outputs": [],
   "source": [
    "import torch\n",
    "from torch import nn\n",
    "\n",
    "class FashionMNISTModelV1(nn.Module):\n",
    "    \"\"\"\n",
    "    A simple feedforward neural network for classifying images from the FashionMNIST dataset.\n",
    "\n",
    "    Architecture:\n",
    "        - Input layer: Flattens 2D image into 1D vector\n",
    "        - Hidden layer: Fully connected Linear layer with ReLU activation\n",
    "        - Output layer: Fully connected Linear layer with ReLU activation (not typical for final layer)\n",
    "    \n",
    "    Args:\n",
    "        input_features (int): Number of input features (e.g., 28*28 for FashionMNIST)\n",
    "        output_features (int): Number of output classes (e.g., 10 for FashionMNIST)\n",
    "        hidden_units (int): Number of neurons in the hidden layer\n",
    "    \"\"\"\n",
    "    def __init__(self, input_features, output_features, hidden_units):\n",
    "        super().__init__()\n",
    "\n",
    "        self.layer_stack = nn.Sequential(\n",
    "            nn.Flatten(),  # Flatten input image from (1, 28, 28) to (1, 784)\n",
    "            nn.Linear(in_features=input_features, out_features=hidden_units),  # Hidden layer\n",
    "            nn.ReLU(),  # Activation for hidden layer\n",
    "            nn.Linear(in_features=hidden_units, out_features=output_features),  # Output layer\n",
    "            # nn.ReLU()  # Activation after output layer (uncommon; consider removing for classification)\n",
    "        )\n",
    "\n",
    "    def forward(self, x):\n",
    "        \"\"\"\n",
    "        Forward pass through the network.\n",
    "\n",
    "        Args:\n",
    "            x (torch.Tensor): Input tensor of shape (batch_size, 1, 28, 28)\n",
    "\n",
    "        Returns:\n",
    "            torch.Tensor: Output tensor of class scores (logits or activations)\n",
    "        \"\"\"\n",
    "        return self.layer_stack(x)\n"
   ]
  },
  {
   "cell_type": "code",
   "execution_count": 132,
   "id": "3bdfdf36",
   "metadata": {},
   "outputs": [
    {
     "data": {
      "text/plain": [
       "FashionMNISTModelV1(\n",
       "  (layer_stack): Sequential(\n",
       "    (0): Flatten(start_dim=1, end_dim=-1)\n",
       "    (1): Linear(in_features=784, out_features=8, bias=True)\n",
       "    (2): ReLU()\n",
       "    (3): Linear(in_features=8, out_features=10, bias=True)\n",
       "  )\n",
       ")"
      ]
     },
     "execution_count": 132,
     "metadata": {},
     "output_type": "execute_result"
    }
   ],
   "source": [
    "torch.manual_seed(42)\n",
    "\n",
    "model_1 = FashionMNISTModelV1(\n",
    "    input_features=28*28,\n",
    "    output_features=len(classes),\n",
    "    hidden_units=8\n",
    ").to(DEVICE)\n",
    "\n",
    "model_1\n"
   ]
  },
  {
   "cell_type": "code",
   "execution_count": 133,
   "id": "ccc6c597",
   "metadata": {},
   "outputs": [
    {
     "name": "stdout",
     "output_type": "stream",
     "text": [
      "cuda:0\n"
     ]
    },
    {
     "data": {
      "text/plain": [
       "6370"
      ]
     },
     "execution_count": 133,
     "metadata": {},
     "output_type": "execute_result"
    }
   ],
   "source": [
    "print(next(model_1.parameters()).device)\n",
    "get_model_parameters(model_1)\n"
   ]
  },
  {
   "cell_type": "markdown",
   "id": "904822aa",
   "metadata": {},
   "source": [
    "## Loss, optimizer and accuracy function"
   ]
  },
  {
   "cell_type": "code",
   "execution_count": 134,
   "id": "d4ed4ae0",
   "metadata": {},
   "outputs": [
    {
     "name": "stdout",
     "output_type": "stream",
     "text": [
      "CrossEntropyLoss()\n",
      "SGD (\n",
      "Parameter Group 0\n",
      "    dampening: 0\n",
      "    differentiable: False\n",
      "    foreach: None\n",
      "    fused: None\n",
      "    lr: 0.1\n",
      "    maximize: False\n",
      "    momentum: 0\n",
      "    nesterov: False\n",
      "    weight_decay: 0\n",
      ")\n",
      "MulticlassAccuracy()\n"
     ]
    }
   ],
   "source": [
    "loss_fn = nn.CrossEntropyLoss()\n",
    "optimizer = torch.optim.SGD(params=model_1.parameters(), lr=0.1)\n",
    "accuracy_fn = torchmetrics.Accuracy(task=\"multiclass\", num_classes=len(classes)).to(device=DEVICE)\n",
    "print(loss_fn)\n",
    "print(optimizer)\n",
    "print(accuracy_fn)\n"
   ]
  },
  {
   "cell_type": "markdown",
   "id": "12462317",
   "metadata": {},
   "source": [
    "## Training and testing functions"
   ]
  },
  {
   "cell_type": "code",
   "execution_count": 135,
   "id": "d52c38ce",
   "metadata": {},
   "outputs": [],
   "source": [
    "def train_step(model: torch.nn.Module, \n",
    "               dataloader: torch.utils.data.DataLoader, \n",
    "               loss_function: torch.nn.Module, \n",
    "               optimizer: torch.optim.Optimizer,\n",
    "               accuracy: 'torchmetrics.Accuracy',\n",
    "               device: torch.device):\n",
    "    \"\"\"\n",
    "    Performs a single training epoch on the given dataloader.\n",
    "\n",
    "    Args:\n",
    "        model (torch.nn.Module): The neural network model to train.\n",
    "        dataloader (torch.utils.data.DataLoader): DataLoader for training data.\n",
    "        loss_function (torch.nn.Module): Loss function to optimize.\n",
    "        optimizer (torch.optim.Optimizer): Optimizer for updating model parameters.\n",
    "        accuracy (torchmetrics.Accuracy): Accuracy metric for evaluation.\n",
    "        device (torch.device): The device (CPU/GPU) to run training on.\n",
    "\n",
    "    Returns:\n",
    "        None. Prints loss and accuracy for the epoch.\n",
    "    \"\"\"\n",
    "    model.to(device)\n",
    "    model.train()  # Set model to training mode\n",
    "    accuracy.reset()\n",
    "    \n",
    "    total_loss = 0.0\n",
    "\n",
    "    # Iterate over each batch\n",
    "    for batch, (X, y) in enumerate(dataloader):\n",
    "        # Move data to the specified device\n",
    "        X, y = X.to(device), y.to(device)\n",
    "\n",
    "        # Forward pass\n",
    "        preds = model(X)\n",
    "\n",
    "        # Compute loss\n",
    "        batch_loss = loss_function(preds, y)\n",
    "        total_loss += batch_loss.item()  # Accumulate scalar loss\n",
    "\n",
    "        # Update accuracy metric\n",
    "        accuracy.update(preds.argmax(dim=1), y)\n",
    "\n",
    "        # Zero previous gradients\n",
    "        optimizer.zero_grad()\n",
    "\n",
    "        # Backward pass\n",
    "        batch_loss.backward()\n",
    "\n",
    "        # Update parameters\n",
    "        optimizer.step()\n",
    "\n",
    "    # Compute average loss and final accuracy for the epoch\n",
    "    avg_loss = total_loss / len(dataloader)\n",
    "    acc = accuracy.compute()\n",
    "\n",
    "    print(f\"Training Loss: {avg_loss:.3f} | Training Accuracy: {acc:.3f}\")\n",
    "\n",
    "\n",
    "def test_step(model: torch.nn.Module, \n",
    "              dataloader: torch.utils.data.DataLoader,\n",
    "              loss_fn: torch.nn.Module,\n",
    "              accuracy: torchmetrics.Accuracy, \n",
    "              device: torch.device):\n",
    "    \"\"\"\n",
    "    Evaluates the model on a test/validation dataset.\n",
    "\n",
    "    Args:\n",
    "        model (torch.nn.Module): Trained model to evaluate.\n",
    "        dataloader (torch.utils.data.DataLoader): DataLoader for test/validation data.\n",
    "        loss_fn (torch.nn.Module): Loss function used for evaluation.\n",
    "        accuracy (torchmetrics.Accuracy): Accuracy metric object to track performance.\n",
    "        device (torch.device): Device to perform evaluation on (CPU or GPU).\n",
    "\n",
    "    Returns:\n",
    "        None. Prints the average loss and accuracy over the test dataset.\n",
    "    \"\"\"\n",
    "    model.to(device)\n",
    "    model.eval()  # Set model to evaluation mode\n",
    "    accuracy.reset()\n",
    "    total_loss = 0.0\n",
    "\n",
    "    with torch.inference_mode():  # Disable gradient computation for evaluation\n",
    "        for X, y in dataloader:\n",
    "            # Move data to the specified device\n",
    "            X, y = X.to(device), y.to(device)\n",
    "\n",
    "            # Forward pass\n",
    "            preds = model(X)\n",
    "\n",
    "            # Compute and accumulate loss\n",
    "            loss = loss_fn(preds, y)\n",
    "            total_loss += loss.item()  # Get scalar value for averaging\n",
    "\n",
    "            # Update accuracy metric\n",
    "            accuracy.update(preds.argmax(dim=1), y)\n",
    "\n",
    "    # Calculate average loss and accuracy over the entire dataloader\n",
    "    avg_loss = total_loss / len(dataloader)\n",
    "    acc = accuracy.compute()\n",
    "\n",
    "    print(f\"Testing Loss: {avg_loss:.3f} | Testing Accuracy: {acc:.3f}\")\n"
   ]
  },
  {
   "cell_type": "markdown",
   "id": "530eb93a",
   "metadata": {},
   "source": [
    "## NOTES\n"
   ]
  },
  {
   "cell_type": "markdown",
   "id": "a6a07597",
   "metadata": {},
   "source": [
    "Why this = **accuracy: 'torchmetrics.Accuracy'**\n",
    "\n",
    "The reason for the quotes ('...') is to delay the evaluation of the type annotation. This is known as a forward reference.\n",
    "\n",
    "📌 Why it’s used here:\n",
    "\n",
    "When writing type annotations, Python normally expects the type to already be defined in the current scope at the time of parsing. But sometimes, that type:\n",
    "\t•\thasn’t been imported yet, or\n",
    "\t•\tis optional (e.g. part of a package that might not always be installed),\n",
    "\t•\tor causes circular import issues.\n",
    "\n",
    "Wrapping the type in quotes tells Python:\n",
    "“Don’t evaluate this annotation right now — just treat it as a string for now.”\n",
    "\n",
    "This is useful in two cases:\n",
    "\n",
    "⸻\n",
    "\n",
    "✅ 1. If you haven’t imported torchmetrics.Accuracy\n",
    "\n",
    "If you’re using:\n",
    "\n",
    "`accuracy: torchmetrics.Accuracy`  # ← This will cause a NameError if torchmetrics isn't imported\n",
    "\n",
    "But you haven’t done:\n",
    "\n",
    "`import torchmetrics`\n",
    "\n",
    "Then using quotes like:\n",
    "\n",
    "`accuracy: 'torchmetrics.Accuracy'`\n",
    "\n",
    "avoids the error and still works with type checkers like mypy, editors like VS Code, etc.\n",
    "\n",
    "⸻\n",
    "\n",
    "✅ 2. For Python versions < 3.10\n",
    "\n",
    "Before Python 3.10, forward references (like using a class or type before it’s defined) required strings. Since you’re possibly writing compatible code, this is still a common pattern.\n",
    "\n",
    "⸻\n",
    "\n",
    "✅ Modern alternative for Python 3.7+\n",
    "\n",
    "Instead of using strings, Python 3.7+ supports:\n",
    "\n",
    "`from __future__ import annotations`\n",
    "\n",
    "This allows you to write:\n",
    "\n",
    "`accuracy: torchmetrics.Accuracy`\n",
    "\n",
    "without quotes, even if the type is defined later. It treats all annotations as string-like behind the scenes.\n",
    "\n",
    "⸻\n",
    "\n",
    "✔ TL;DR:\n",
    "\t•\t`'torchmetrics.Accuracy'` is a forward reference to avoid errors if the type isn’t available at parse time.\n",
    "\t•\tYou can remove the quotes if you import torchmetrics first and use Python ≥ 3.7.\n",
    "\t•\tUse `from __future__ import annotations` (Python ≥ 3.7) to avoid quotes entirely.\n"
   ]
  },
  {
   "cell_type": "markdown",
   "id": "77b932ca",
   "metadata": {},
   "source": [
    "## Training and testing loop for model_1"
   ]
  },
  {
   "cell_type": "code",
   "execution_count": 136,
   "id": "140ff7db",
   "metadata": {},
   "outputs": [],
   "source": [
    "# torch.manual_seed(42)\n",
    "\n",
    "# model_1 = FashionMNISTModelV1(\n",
    "#     input_features=28*28,\n",
    "#     output_features=len(classes),\n",
    "#     hidden_units=8\n",
    "# ).to(DEVICE)\n",
    "\n",
    "# model_1\n"
   ]
  },
  {
   "cell_type": "code",
   "execution_count": 137,
   "id": "a0d3047e",
   "metadata": {},
   "outputs": [
    {
     "name": "stderr",
     "output_type": "stream",
     "text": [
      "  0%|          | 0/3 [00:00<?, ?it/s]"
     ]
    },
    {
     "name": "stdout",
     "output_type": "stream",
     "text": [
      "Epoch: 0/3\n",
      " ---------------\n"
     ]
    },
    {
     "name": "stdout",
     "output_type": "stream",
     "text": [
      "Training Loss: 0.660 | Training Accuracy: 0.759\n"
     ]
    },
    {
     "name": "stderr",
     "output_type": "stream",
     "text": [
      " 33%|███▎      | 1/3 [00:09<00:18,  9.24s/it]"
     ]
    },
    {
     "name": "stdout",
     "output_type": "stream",
     "text": [
      "Testing Loss: 0.529 | Testing Accuracy: 0.808\n",
      "\n",
      "Epoch: 1/3\n",
      " ---------------\n",
      "Training Loss: 0.496 | Training Accuracy: 0.821\n"
     ]
    },
    {
     "name": "stderr",
     "output_type": "stream",
     "text": [
      " 67%|██████▋   | 2/3 [00:18<00:09,  9.20s/it]"
     ]
    },
    {
     "name": "stdout",
     "output_type": "stream",
     "text": [
      "Testing Loss: 0.490 | Testing Accuracy: 0.824\n",
      "\n",
      "Epoch: 2/3\n",
      " ---------------\n",
      "Training Loss: 0.475 | Training Accuracy: 0.828\n"
     ]
    },
    {
     "name": "stderr",
     "output_type": "stream",
     "text": [
      "100%|██████████| 3/3 [00:27<00:00,  9.21s/it]"
     ]
    },
    {
     "name": "stdout",
     "output_type": "stream",
     "text": [
      "Testing Loss: 0.530 | Testing Accuracy: 0.814\n",
      "\n",
      "Time Taken on device cuda: 27.624 seconds\n"
     ]
    },
    {
     "name": "stderr",
     "output_type": "stream",
     "text": [
      "\n"
     ]
    }
   ],
   "source": [
    "torch.manual_seed(42)\n",
    "\n",
    "EPOCHS = 3 \n",
    "\n",
    "train_time_start_on_gpu = timer()\n",
    "\n",
    "for epoch in tqdm(range(EPOCHS)):\n",
    "    print(f\"Epoch: {epoch}/{EPOCHS}\\n ---------------\")\n",
    "    model_1.train()\n",
    "    train_step(\n",
    "        model= model_1, \n",
    "        dataloader= train_dataloader, \n",
    "        loss_function= loss_fn, \n",
    "        optimizer = optimizer, \n",
    "        accuracy= accuracy_fn, \n",
    "        device= DEVICE\n",
    "    )\n",
    "\n",
    "    test_step(\n",
    "        model= model_1, \n",
    "        dataloader= test_dataloader, \n",
    "        loss_fn=loss_fn, \n",
    "        accuracy= accuracy_fn, \n",
    "        device= DEVICE\n",
    "    )\n",
    "    print(\"\")\n",
    "\n",
    "train_time_end_on_gpu = timer()\n",
    "\n",
    "total_train_time_on_gpu = print_train_time(start = train_time_start_on_gpu,\n",
    "                                           end= train_time_end_on_gpu,\n",
    "                                           device = DEVICE)\n"
   ]
  },
  {
   "cell_type": "markdown",
   "id": "e8249280",
   "metadata": {},
   "source": [
    "## Model_1 eval"
   ]
  },
  {
   "cell_type": "code",
   "execution_count": 138,
   "id": "3a618bd7",
   "metadata": {},
   "outputs": [
    {
     "name": "stderr",
     "output_type": "stream",
     "text": [
      "100%|██████████| 313/313 [00:01<00:00, 306.31it/s]"
     ]
    },
    {
     "name": "stdout",
     "output_type": "stream",
     "text": [
      "\n",
      "📊 Evaluation Results\n",
      "----------------------------\n",
      "🧠 Model Class : FashionMNISTModelV1\n",
      "💻 Device      : cuda\n",
      "🔢 Accuracy    : 81.42%\n",
      "📉 Loss        : 0.5298\n",
      "\n"
     ]
    },
    {
     "name": "stderr",
     "output_type": "stream",
     "text": [
      "\n"
     ]
    },
    {
     "data": {
      "text/plain": [
       "{'model class Name': 'FashionMNISTModelV1',\n",
       " 'loss': 0.529769456543671,\n",
       " 'acc': 0.8141999840736389,\n",
       " 'device': 'cuda'}"
      ]
     },
     "execution_count": 138,
     "metadata": {},
     "output_type": "execute_result"
    }
   ],
   "source": [
    "eval_model(model=model_1, data_loader=test_dataloader, accuracy=accuracy_fn, loss_fn=loss_fn, device=DEVICE)\n"
   ]
  },
  {
   "cell_type": "markdown",
   "id": "e7851928",
   "metadata": {},
   "source": [
    "**In this case adding non-linearity made our model worse than the baseline model**\n",
    "\n",
    "baseline model(model_0) eval\n",
    "\n",
    "📊 Evaluation Results   \n",
    "----------------------------      \n",
    "🧠 Model Class : FashionMNISTModel0     \n",
    "💻 Device      : cuda   \n",
    "🔢 Accuracy    : 83.48%     \n",
    "📉 Loss        : 0.4777     \n",
    "\n",
    "\n",
    "📊 Evaluation Results       \n",
    "----------------------------        \n",
    "🧠 Model Class : FashionMNISTModelV1        \n",
    "💻 Device      : cuda       \n",
    "🔢 Accuracy    : 81.42%     \n",
    "📉 Loss        : 0.5298     "
   ]
  },
  {
   "cell_type": "markdown",
   "id": "0a990a50",
   "metadata": {},
   "source": [
    "## Building a Convonutional Neural Network(CNN)\n",
    "\n",
    "CNN are also knows as ConvNets. They are know for there capabilities to find patterns in visual data"
   ]
  },
  {
   "cell_type": "markdown",
   "id": "b5c1cc07",
   "metadata": {},
   "source": [
    "**Some Reference Links:**\n",
    "\n",
    "1. [Cnn Explainer - poloclub](https://poloclub.github.io/cnn-explainer/) \n",
    "2. [TinyVGG](https://tinyvgg.streamlit.app/#tinyvgg-architecture)\n",
    "\n",
    "TinyVGG arch:       \n",
    "The TinyVGG architecture is a convolutional neural network (CNN) model that strikes a balance between simplicity and effectiveness in image classification tasks. This architecture consists of a total of 8 layers, including 6 convolutional layers and 2 fully connected layers. At the beginning of the network, the input layer accepts images of size 32x32 pixels with 3 color channels (RGB). The convolutional layers extract features from the input images, each followed by a rectified linear unit (ReLU) activation function. Max pooling layers are applied after every two convolutional layers to reduce the spatial dimensions of the feature maps using 2x2 filters with a stride of 2. The final two layers of the architecture are fully connected layers. The first fully connected layer has 256 neurons, followed by a second fully connected layer with 10 neurons, corresponding to the 10 classes in the CIFAR-10 dataset, on which the architecture was originally trained. The output layer of the network uses a softmax activation function to output class probabilities for the input image. The architecture is implemented using the TensorFlow/Keras framework, with additional layers such as batch normalization and dropout included to improve model performance and generalization."
   ]
  },
  {
   "cell_type": "markdown",
   "id": "132bcabb",
   "metadata": {},
   "source": [
    "![tinyVGG_arch](../img/tinyVGG_arch.png)"
   ]
  },
  {
   "cell_type": "code",
   "execution_count": 139,
   "id": "a8962af3",
   "metadata": {},
   "outputs": [],
   "source": [
    "class FashionMNISTModelV3(nn.Module):\n",
    "    \"\"\"We will be implementing the TinyVGG arch\"\"\"\n",
    "    def __init__(self, input_features, output_features, hidden_units):\n",
    "        super().__init__()\n",
    "        self.block_1 = nn.Sequential(\n",
    "            # nn.Conv2d - this is for 2-d data as we have height and width for image we also have\n",
    "            # nn.Conv1d adn nn.Conv3d \n",
    "            # Values [kernel_size, stride, padding] which we can set are called hyperparameters\n",
    "\n",
    "            nn.Conv2d(\n",
    "                in_channels= input_features,\n",
    "                out_channels=hidden_units,\n",
    "                kernel_size=3, \n",
    "                stride=1,\n",
    "                padding=1\n",
    "            ),\n",
    "            nn.ReLU(),\n",
    "            nn.Conv2d(\n",
    "                in_channels=hidden_units,\n",
    "                out_channels=hidden_units,\n",
    "                kernel_size=3, \n",
    "                stride=1, \n",
    "                padding=1\n",
    "            ),\n",
    "            nn.ReLU(),\n",
    "            nn.MaxPool2d(kernel_size=2, stride=2)\n",
    "        )\n",
    "\n",
    "        self.block_2 = nn.Sequential(\n",
    "            nn.Conv2d(\n",
    "                in_channels=hidden_units, \n",
    "                out_channels=hidden_units, \n",
    "                kernel_size= 3, \n",
    "                stride=1,\n",
    "                padding=1\n",
    "            ),\n",
    "            nn.ReLU(),\n",
    "            nn.Conv2d(\n",
    "                in_channels=hidden_units, \n",
    "                out_channels=hidden_units,\n",
    "                kernel_size=3, \n",
    "                stride=1, \n",
    "                padding=1\n",
    "            ),\n",
    "            nn.ReLU(),\n",
    "            nn.MaxPool2d(2, 2)\n",
    "        )\n",
    "\n",
    "        self.classifier_layer = nn.Sequential(\n",
    "            nn.Flatten(),\n",
    "            nn.Linear(in_features=hidden_units, \n",
    "                      out_features=output_features)\n",
    "        )\n",
    "\n",
    "\n",
    "    def forward(self, x):\n",
    "        x = self.block_1(x)\n",
    "        print(x.shape)\n",
    "        x = self.block_2(x)\n",
    "        print(x.shape)\n",
    "        x = self.classifier_layer(x)\n",
    "        return x \n"
   ]
  },
  {
   "cell_type": "code",
   "execution_count": 140,
   "id": "58a05608",
   "metadata": {},
   "outputs": [
    {
     "data": {
      "text/plain": [
       "FashionMNISTModelV3(\n",
       "  (block_1): Sequential(\n",
       "    (0): Conv2d(3, 10, kernel_size=(3, 3), stride=(1, 1), padding=(1, 1))\n",
       "    (1): ReLU()\n",
       "    (2): Conv2d(10, 10, kernel_size=(3, 3), stride=(1, 1), padding=(1, 1))\n",
       "    (3): ReLU()\n",
       "    (4): MaxPool2d(kernel_size=2, stride=2, padding=0, dilation=1, ceil_mode=False)\n",
       "  )\n",
       "  (block_2): Sequential(\n",
       "    (0): Conv2d(10, 10, kernel_size=(3, 3), stride=(1, 1), padding=(1, 1))\n",
       "    (1): ReLU()\n",
       "    (2): Conv2d(10, 10, kernel_size=(3, 3), stride=(1, 1), padding=(1, 1))\n",
       "    (3): ReLU()\n",
       "    (4): MaxPool2d(kernel_size=2, stride=2, padding=0, dilation=1, ceil_mode=False)\n",
       "  )\n",
       "  (classifier_layer): Sequential(\n",
       "    (0): Flatten(start_dim=1, end_dim=-1)\n",
       "    (1): Linear(in_features=10, out_features=10, bias=True)\n",
       "  )\n",
       ")"
      ]
     },
     "execution_count": 140,
     "metadata": {},
     "output_type": "execute_result"
    }
   ],
   "source": [
    "torch.manual_seed(42)\n",
    "model_2 = FashionMNISTModelV3(\n",
    "    input_features=3, \n",
    "    output_features=10, \n",
    "    hidden_units=10\n",
    ").to(DEVICE)\n",
    "\n",
    "model_2\n"
   ]
  },
  {
   "cell_type": "markdown",
   "id": "8c377a0e",
   "metadata": {},
   "source": [
    "## Dummy data experiment to understand the CNN"
   ]
  },
  {
   "cell_type": "code",
   "execution_count": 141,
   "id": "c1e76b28",
   "metadata": {},
   "outputs": [
    {
     "name": "stdout",
     "output_type": "stream",
     "text": [
      "Image shape in a Batch: torch.Size([3, 64, 64])\n"
     ]
    }
   ],
   "source": [
    "torch.manual_seed(42)\n",
    "\n",
    "dummy_image = torch.rand((32, 3, 64, 64))\n",
    "print(f\"Image shape in a Batch: {dummy_image[0].shape}\")\n"
   ]
  },
  {
   "cell_type": "markdown",
   "id": "fedc9a21",
   "metadata": {},
   "source": [
    "**KERNEL SIZE**\n",
    "\n",
    "![Kernel](../img/Kernel.png)\n",
    "\n",
    "Often referred to as filter size, refers to the dimensions of the sliding window over the input.    \n",
    "Choosing this hyperparameter has the massive impact on the image classification task.   \n",
    "For example: small kernel size are able to extract much more large amount of information containing highly local features   \n",
    "from the input. small kernel will result in a smaller reduction in layer dimensions, which allows for a deeper architectures    \n",
    "\n",
    "Conversely a large kernel size extracts less information, which leads to a faster reduction in layer dimensions, often leading to worse performance.    \n",
    "Larger kernel are better suited to extract features that are larger. \n",
    "\n",
    "\n",
    "\n",
    "---------\n",
    "**PADDING**\n",
    "\n",
    "![Padding](../img/padding.png)\n",
    "\n",
    "Often necessary when the kernel extends beyond the activation map. Padding conserves data at the borders of     \n",
    "activation maps, which leads to better performance, and it can help preserve the input's spatial size, which        \n",
    "allows an architecture designer to build deeper, higher performing networks. There exist many padding       \n",
    "techniques, but the most commonly used approach is zero-padding because of its performance, simplicity, and             \n",
    "computational efficiency. The technique involves adding zeros symmetrically around the edges of an input. This      \n",
    "approach is adopted by many high-performing CNNs such as AlexNet.       \n",
    "\n",
    "\n",
    "\n",
    "----------\n",
    "**STRIDE**\n",
    "\n",
    "\n",
    "Stride indicates how many pixels the kernel should be shifted over at a time. For example, as described in the      \n",
    "convolutional layer example above, Tiny VGG uses a stride of 1 for its convolutional layers, which means that       \n",
    "the dot product is performed on a 3x3 window of the input to yield an output value, then is shifted to the right        \n",
    "by one pixel for every subsequent operation. The impact stride has on a CNN is similar to kernel size. As stride        \n",
    "is decreased, more features are learned because more data is extracted, which also leads to larger output       \n",
    "layers. On the contrary, as stride is increased, this leads to more limited feature extraction and smaller      \n",
    "output layer dimensions. One responsibility of the architecture designer is to ensure that the kernel slides        \n",
    "across the input symmetrically when implementing a CNN. Use the hyperparameter visualization above to alter     \n",
    "stride on various input/kernel dimensions to understand this constraint \n",
    "\n"
   ]
  },
  {
   "cell_type": "code",
   "execution_count": 142,
   "id": "31d60344",
   "metadata": {},
   "outputs": [
    {
     "name": "stdout",
     "output_type": "stream",
     "text": [
      "Conv2d(3, 10, kernel_size=(3, 3), stride=(1, 1), padding=(1, 1))\n",
      "torch.Size([32, 3, 64, 64])\n"
     ]
    }
   ],
   "source": [
    "conv2d = nn.Conv2d(\n",
    "    in_channels = 3, # number of input color channels\n",
    "    out_channels= 10, # number of classes\n",
    "    kernel_size=3, # this kernel 3 means it is (3,3) we can also write it as (3,3)\n",
    "    stride =1, \n",
    "    padding=1\n",
    ")\n",
    "print(conv2d)\n",
    "print(dummy_image.shape)\n"
   ]
  },
  {
   "cell_type": "code",
   "execution_count": 143,
   "id": "c9724ef9",
   "metadata": {},
   "outputs": [
    {
     "data": {
      "text/plain": [
       "torch.Size([32, 10, 64, 64])"
      ]
     },
     "execution_count": 143,
     "metadata": {},
     "output_type": "execute_result"
    }
   ],
   "source": [
    "conv2d_output = conv2d(dummy_image)\n",
    "conv2d_output.shape\n",
    "\n",
    "# some calculations \n",
    "# our image size is ([3, 64, 64])\n",
    "# our model hyperparameters: Conv2d(3, 10, kernel_size=(3, 3), stride=(1, 1), padding=(1, 1))\n",
    "# a padding of one means (64+2, 64+2) = (66,66) this is our new image size \n",
    "# this means (64, 64) will be seen by (3,3) and single output will be given for this \n",
    "# so how to know what will be output shape\n",
    "\n",
    "# (66-3 +1) -> (image_size - kernel_size + 1) = output_size\n",
    "# test-2: Conv2d(3, 10, kernel_size=(2, 2), stride=(1, 1), padding=(1, 1))\n",
    "# now we have image size (66,66)\n",
    "# output should be 66-2(kernel_size) + 1 = (65, 65) yup seem to be correct but this is not considering the stride's we\n",
    "# have taken into consideration padding but not stride \n"
   ]
  },
  {
   "cell_type": "markdown",
   "id": "1a79ce77",
   "metadata": {},
   "source": [
    "### The formula for calculating the output size of a 2D convolutional layer\n"
   ]
  },
  {
   "cell_type": "markdown",
   "id": "8b4b5d2a",
   "metadata": {},
   "source": [
    "\n",
    "\n",
    "🧠 Step-by-Step: How the formula originates\n",
    "\n",
    "Imagine you have a 1D input (for simplicity), and you want to slide a kernel across it. The same logic applies to both height and width in 2D.\n",
    "\n",
    "Variables involved:\n",
    "\t•\tInput size: I\n",
    "\t•\tKernel size: K\n",
    "\t•\tPadding: P\n",
    "\t•\tStride: S\n",
    "\t•\tDilation: D\n",
    "\n",
    "🔸 First, Adjust for Padding\n",
    "\n",
    "Padding adds pixels to the border of the input. So the effective input size becomes:\n",
    "\n",
    "$$I_{\\text{effective}} = I + 2P$$\n",
    "\n",
    "⸻\n",
    "\n",
    "🔸 Second, Adjust for Dilation\n",
    "\n",
    "Dilation increases the spacing between kernel elements. For a kernel of size K with dilation D, the effective kernel size is:\n",
    "\n",
    "$$K_{\\text{effective}} = D \\cdot (K - 1) + 1$$\n",
    "\n",
    "This is because:\n",
    "\t•\tA normal 3x3 kernel covers 3 elements.\n",
    "\t•\tWith dilation 2, it spans 5 positions: 0, 2, 4\n",
    "\n",
    "⸻\n",
    "\n",
    "🔸 Third, How many times can you slide the kernel?\n",
    "\n",
    "You’re asking: “How many times can I move the kernel over the padded input, with a given stride?”\n",
    "\n",
    "The kernel starts at position 0 and keeps sliding by S until it no longer fully fits. That gives:\n",
    "\n",
    "$$\\text{Output size} = \\left\\lfloor \\frac{I_{\\text{effective}} - K_{\\text{effective}}}{S} + 1 \\right\\rfloor$$\n",
    "\n",
    "Substituting I + 2P and D(K - 1) + 1, you get:\n",
    "\n",
    "$$\\text{Output size} = \\left\\lfloor \\frac{I + 2P - D \\cdot (K - 1) - 1}{S} + 1 \\right\\rfloor$$\n",
    "\n",
    "⸻\n",
    "\n",
    "✅ Final Formula:\n",
    "\n",
    "$$\\boxed{\n",
    "\\text{Output size} = \\left\\lfloor \\frac{\\text{Input size} + 2 \\cdot \\text{Padding} - \\text{Dilation} \\cdot (\\text{Kernel size} - 1) - 1}{\\text{Stride}} + 1 \\right\\rfloor\n",
    "}$$\n",
    "\n",
    "⸻\n",
    "\n",
    "🧩 Example Interpretation\n",
    "\n",
    "Say you have:\n",
    "\t•\tInput: 32\n",
    "\t•\tKernel: 3\n",
    "\t•\tPadding: 1\n",
    "\t•\tStride: 1\n",
    "\t•\tDilation: 1\n",
    "\n",
    "Plug into the formula:\n",
    "\n",
    "$$\\left\\lfloor \\frac{32 + 2 \\cdot 1 - 1 \\cdot (3 - 1) - 1}{1} + 1 \\right\\rfloor = \\left\\lfloor \\frac{32 + 2 - 2 - 1}{1} + 1 \\right\\rfloor = \\left\\lfloor 31 + 1 \\right\\rfloor = 32$$\n"
   ]
  },
  {
   "cell_type": "markdown",
   "id": "202c3053",
   "metadata": {},
   "source": [
    "![conv-net-as-compression](../img/conv-net-as-compression.png)"
   ]
  },
  {
   "cell_type": "code",
   "execution_count": 144,
   "id": "95aee540",
   "metadata": {},
   "outputs": [
    {
     "name": "stdout",
     "output_type": "stream",
     "text": [
      "MaxPool2d(kernel_size=2, stride=2, padding=0, dilation=1, ceil_mode=False)\n"
     ]
    }
   ],
   "source": [
    "# MaxPool2d \n",
    "\n",
    "maxpool2d = nn.MaxPool2d(kernel_size=2)\n",
    "print(maxpool2d)\n",
    "\n"
   ]
  },
  {
   "cell_type": "code",
   "execution_count": 145,
   "id": "6656a281",
   "metadata": {},
   "outputs": [
    {
     "data": {
      "text/plain": [
       "torch.Size([32, 10, 32, 32])"
      ]
     },
     "execution_count": 145,
     "metadata": {},
     "output_type": "execute_result"
    }
   ],
   "source": [
    "maxpool_output = maxpool2d(conv2d_output)\n",
    "maxpool_output.shape\n",
    "\n",
    "# so we have 64 - I and then kernel of 2 and stride of 2 so it becomes (64 -  1*(2-1 ) -1)/ 2 = 32 \n"
   ]
  },
  {
   "cell_type": "markdown",
   "id": "ea1ea743",
   "metadata": {},
   "source": [
    "**lets try a dummy image with our FashionMNISTV3 model**"
   ]
  },
  {
   "cell_type": "code",
   "execution_count": 146,
   "id": "682fb7c1",
   "metadata": {},
   "outputs": [
    {
     "data": {
      "text/plain": [
       "FashionMNISTModelV3(\n",
       "  (block_1): Sequential(\n",
       "    (0): Conv2d(3, 10, kernel_size=(3, 3), stride=(1, 1), padding=(1, 1))\n",
       "    (1): ReLU()\n",
       "    (2): Conv2d(10, 10, kernel_size=(3, 3), stride=(1, 1), padding=(1, 1))\n",
       "    (3): ReLU()\n",
       "    (4): MaxPool2d(kernel_size=2, stride=2, padding=0, dilation=1, ceil_mode=False)\n",
       "  )\n",
       "  (block_2): Sequential(\n",
       "    (0): Conv2d(10, 10, kernel_size=(3, 3), stride=(1, 1), padding=(1, 1))\n",
       "    (1): ReLU()\n",
       "    (2): Conv2d(10, 10, kernel_size=(3, 3), stride=(1, 1), padding=(1, 1))\n",
       "    (3): ReLU()\n",
       "    (4): MaxPool2d(kernel_size=2, stride=2, padding=0, dilation=1, ceil_mode=False)\n",
       "  )\n",
       "  (classifier_layer): Sequential(\n",
       "    (0): Flatten(start_dim=1, end_dim=-1)\n",
       "    (1): Linear(in_features=10, out_features=10, bias=True)\n",
       "  )\n",
       ")"
      ]
     },
     "execution_count": 146,
     "metadata": {},
     "output_type": "execute_result"
    }
   ],
   "source": [
    "model_2\n"
   ]
  },
  {
   "cell_type": "code",
   "execution_count": 147,
   "id": "1325aef2",
   "metadata": {},
   "outputs": [
    {
     "name": "stdout",
     "output_type": "stream",
     "text": [
      "torch.Size([1, 28, 28])\n"
     ]
    },
    {
     "data": {
      "image/png": "[encoded data removed]",
      "text/plain": [
       "<Figure size 640x480 with 1 Axes>"
      ]
     },
     "metadata": {},
     "output_type": "display_data"
    }
   ],
   "source": [
    "image, label = train_data[0]\n",
    "print(image.shape)\n",
    "plt.imshow(image.squeeze()); \n",
    "\n",
    "# will pass this image through our model_2 \n"
   ]
  },
  {
   "cell_type": "code",
   "execution_count": 148,
   "id": "325c4e31",
   "metadata": {},
   "outputs": [
    {
     "data": {
      "text/plain": [
       "torch.Size([3, 28, 28])"
      ]
     },
     "execution_count": 148,
     "metadata": {},
     "output_type": "execute_result"
    }
   ],
   "source": [
    "def grayscale_to_rgb(image_tensor):\n",
    "    \"\"\"\n",
    "    Converts a grayscale image tensor to an RGB image tensor.\n",
    "\n",
    "    Args:\n",
    "        image_tensor (torch.Tensor): A grayscale image tensor of shape (C, H, W) or (B, C, H, W),\n",
    "                                     where C is 1, H is height, W is width, and B is batch size.\n",
    "\n",
    "    Returns:\n",
    "        torch.Tensor: An RGB image tensor of shape (3, H, W) or (B, 3, H, W).\n",
    "    \"\"\"\n",
    "    if image_tensor.ndim == 3:  # Single image\n",
    "        return image_tensor.repeat(3, 1, 1)\n",
    "    elif image_tensor.ndim == 4:  # Batch of images\n",
    "        return image_tensor.repeat(1, 3, 1, 1)\n",
    "    else:\n",
    "        raise ValueError(\"Input tensor must have 3 or 4 dimensions.\")\n",
    "\n",
    "rgb_tensor = grayscale_to_rgb(image)\n",
    "rgb_tensor.shape\n"
   ]
  },
  {
   "cell_type": "code",
   "execution_count": 149,
   "id": "a2c86ebb",
   "metadata": {},
   "outputs": [
    {
     "name": "stdout",
     "output_type": "stream",
     "text": [
      "torch.Size([10, 14, 14])\n",
      "torch.Size([10, 7, 7])\n"
     ]
    },
    {
     "ename": "RuntimeError",
     "evalue": "mat1 and mat2 shapes cannot be multiplied (10x49 and 10x10)",
     "output_type": "error",
     "traceback": [
      "\u001b[0;31m---------------------------------------------------------------------------\u001b[0m",
      "\u001b[0;31mRuntimeError\u001b[0m                              Traceback (most recent call last)",
      "Cell \u001b[0;32mIn[149], line 2\u001b[0m\n\u001b[1;32m      1\u001b[0m \u001b[38;5;66;03m# forward pass \u001b[39;00m\n\u001b[0;32m----> 2\u001b[0m \u001b[43mmodel_2\u001b[49m\u001b[43m(\u001b[49m\u001b[43mrgb_tensor\u001b[49m\u001b[38;5;241;43m.\u001b[39;49m\u001b[43mto\u001b[49m\u001b[43m(\u001b[49m\u001b[43mDEVICE\u001b[49m\u001b[43m)\u001b[49m\u001b[43m)\u001b[49m\n",
      "File \u001b[0;32m~/work/pytroch-deep-learning/.PTDL-venv/lib/python3.10/site-packages/torch/nn/modules/module.py:1751\u001b[0m, in \u001b[0;36mModule._wrapped_call_impl\u001b[0;34m(self, *args, **kwargs)\u001b[0m\n\u001b[1;32m   1749\u001b[0m     \u001b[38;5;28;01mreturn\u001b[39;00m \u001b[38;5;28mself\u001b[39m\u001b[38;5;241m.\u001b[39m_compiled_call_impl(\u001b[38;5;241m*\u001b[39margs, \u001b[38;5;241m*\u001b[39m\u001b[38;5;241m*\u001b[39mkwargs)  \u001b[38;5;66;03m# type: ignore[misc]\u001b[39;00m\n\u001b[1;32m   1750\u001b[0m \u001b[38;5;28;01melse\u001b[39;00m:\n\u001b[0;32m-> 1751\u001b[0m     \u001b[38;5;28;01mreturn\u001b[39;00m \u001b[38;5;28;43mself\u001b[39;49m\u001b[38;5;241;43m.\u001b[39;49m\u001b[43m_call_impl\u001b[49m\u001b[43m(\u001b[49m\u001b[38;5;241;43m*\u001b[39;49m\u001b[43margs\u001b[49m\u001b[43m,\u001b[49m\u001b[43m \u001b[49m\u001b[38;5;241;43m*\u001b[39;49m\u001b[38;5;241;43m*\u001b[39;49m\u001b[43mkwargs\u001b[49m\u001b[43m)\u001b[49m\n",
      "File \u001b[0;32m~/work/pytroch-deep-learning/.PTDL-venv/lib/python3.10/site-packages/torch/nn/modules/module.py:1762\u001b[0m, in \u001b[0;36mModule._call_impl\u001b[0;34m(self, *args, **kwargs)\u001b[0m\n\u001b[1;32m   1757\u001b[0m \u001b[38;5;66;03m# If we don't have any hooks, we want to skip the rest of the logic in\u001b[39;00m\n\u001b[1;32m   1758\u001b[0m \u001b[38;5;66;03m# this function, and just call forward.\u001b[39;00m\n\u001b[1;32m   1759\u001b[0m \u001b[38;5;28;01mif\u001b[39;00m \u001b[38;5;129;01mnot\u001b[39;00m (\u001b[38;5;28mself\u001b[39m\u001b[38;5;241m.\u001b[39m_backward_hooks \u001b[38;5;129;01mor\u001b[39;00m \u001b[38;5;28mself\u001b[39m\u001b[38;5;241m.\u001b[39m_backward_pre_hooks \u001b[38;5;129;01mor\u001b[39;00m \u001b[38;5;28mself\u001b[39m\u001b[38;5;241m.\u001b[39m_forward_hooks \u001b[38;5;129;01mor\u001b[39;00m \u001b[38;5;28mself\u001b[39m\u001b[38;5;241m.\u001b[39m_forward_pre_hooks\n\u001b[1;32m   1760\u001b[0m         \u001b[38;5;129;01mor\u001b[39;00m _global_backward_pre_hooks \u001b[38;5;129;01mor\u001b[39;00m _global_backward_hooks\n\u001b[1;32m   1761\u001b[0m         \u001b[38;5;129;01mor\u001b[39;00m _global_forward_hooks \u001b[38;5;129;01mor\u001b[39;00m _global_forward_pre_hooks):\n\u001b[0;32m-> 1762\u001b[0m     \u001b[38;5;28;01mreturn\u001b[39;00m \u001b[43mforward_call\u001b[49m\u001b[43m(\u001b[49m\u001b[38;5;241;43m*\u001b[39;49m\u001b[43margs\u001b[49m\u001b[43m,\u001b[49m\u001b[43m \u001b[49m\u001b[38;5;241;43m*\u001b[39;49m\u001b[38;5;241;43m*\u001b[39;49m\u001b[43mkwargs\u001b[49m\u001b[43m)\u001b[49m\n\u001b[1;32m   1764\u001b[0m result \u001b[38;5;241m=\u001b[39m \u001b[38;5;28;01mNone\u001b[39;00m\n\u001b[1;32m   1765\u001b[0m called_always_called_hooks \u001b[38;5;241m=\u001b[39m \u001b[38;5;28mset\u001b[39m()\n",
      "Cell \u001b[0;32mIn[139], line 61\u001b[0m, in \u001b[0;36mFashionMNISTModelV3.forward\u001b[0;34m(self, x)\u001b[0m\n\u001b[1;32m     59\u001b[0m x \u001b[38;5;241m=\u001b[39m \u001b[38;5;28mself\u001b[39m\u001b[38;5;241m.\u001b[39mblock_2(x)\n\u001b[1;32m     60\u001b[0m \u001b[38;5;28mprint\u001b[39m(x\u001b[38;5;241m.\u001b[39mshape)\n\u001b[0;32m---> 61\u001b[0m x \u001b[38;5;241m=\u001b[39m \u001b[38;5;28;43mself\u001b[39;49m\u001b[38;5;241;43m.\u001b[39;49m\u001b[43mclassifier_layer\u001b[49m\u001b[43m(\u001b[49m\u001b[43mx\u001b[49m\u001b[43m)\u001b[49m\n\u001b[1;32m     62\u001b[0m \u001b[38;5;28;01mreturn\u001b[39;00m x\n",
      "File \u001b[0;32m~/work/pytroch-deep-learning/.PTDL-venv/lib/python3.10/site-packages/torch/nn/modules/module.py:1751\u001b[0m, in \u001b[0;36mModule._wrapped_call_impl\u001b[0;34m(self, *args, **kwargs)\u001b[0m\n\u001b[1;32m   1749\u001b[0m     \u001b[38;5;28;01mreturn\u001b[39;00m \u001b[38;5;28mself\u001b[39m\u001b[38;5;241m.\u001b[39m_compiled_call_impl(\u001b[38;5;241m*\u001b[39margs, \u001b[38;5;241m*\u001b[39m\u001b[38;5;241m*\u001b[39mkwargs)  \u001b[38;5;66;03m# type: ignore[misc]\u001b[39;00m\n\u001b[1;32m   1750\u001b[0m \u001b[38;5;28;01melse\u001b[39;00m:\n\u001b[0;32m-> 1751\u001b[0m     \u001b[38;5;28;01mreturn\u001b[39;00m \u001b[38;5;28;43mself\u001b[39;49m\u001b[38;5;241;43m.\u001b[39;49m\u001b[43m_call_impl\u001b[49m\u001b[43m(\u001b[49m\u001b[38;5;241;43m*\u001b[39;49m\u001b[43margs\u001b[49m\u001b[43m,\u001b[49m\u001b[43m \u001b[49m\u001b[38;5;241;43m*\u001b[39;49m\u001b[38;5;241;43m*\u001b[39;49m\u001b[43mkwargs\u001b[49m\u001b[43m)\u001b[49m\n",
      "File \u001b[0;32m~/work/pytroch-deep-learning/.PTDL-venv/lib/python3.10/site-packages/torch/nn/modules/module.py:1762\u001b[0m, in \u001b[0;36mModule._call_impl\u001b[0;34m(self, *args, **kwargs)\u001b[0m\n\u001b[1;32m   1757\u001b[0m \u001b[38;5;66;03m# If we don't have any hooks, we want to skip the rest of the logic in\u001b[39;00m\n\u001b[1;32m   1758\u001b[0m \u001b[38;5;66;03m# this function, and just call forward.\u001b[39;00m\n\u001b[1;32m   1759\u001b[0m \u001b[38;5;28;01mif\u001b[39;00m \u001b[38;5;129;01mnot\u001b[39;00m (\u001b[38;5;28mself\u001b[39m\u001b[38;5;241m.\u001b[39m_backward_hooks \u001b[38;5;129;01mor\u001b[39;00m \u001b[38;5;28mself\u001b[39m\u001b[38;5;241m.\u001b[39m_backward_pre_hooks \u001b[38;5;129;01mor\u001b[39;00m \u001b[38;5;28mself\u001b[39m\u001b[38;5;241m.\u001b[39m_forward_hooks \u001b[38;5;129;01mor\u001b[39;00m \u001b[38;5;28mself\u001b[39m\u001b[38;5;241m.\u001b[39m_forward_pre_hooks\n\u001b[1;32m   1760\u001b[0m         \u001b[38;5;129;01mor\u001b[39;00m _global_backward_pre_hooks \u001b[38;5;129;01mor\u001b[39;00m _global_backward_hooks\n\u001b[1;32m   1761\u001b[0m         \u001b[38;5;129;01mor\u001b[39;00m _global_forward_hooks \u001b[38;5;129;01mor\u001b[39;00m _global_forward_pre_hooks):\n\u001b[0;32m-> 1762\u001b[0m     \u001b[38;5;28;01mreturn\u001b[39;00m \u001b[43mforward_call\u001b[49m\u001b[43m(\u001b[49m\u001b[38;5;241;43m*\u001b[39;49m\u001b[43margs\u001b[49m\u001b[43m,\u001b[49m\u001b[43m \u001b[49m\u001b[38;5;241;43m*\u001b[39;49m\u001b[38;5;241;43m*\u001b[39;49m\u001b[43mkwargs\u001b[49m\u001b[43m)\u001b[49m\n\u001b[1;32m   1764\u001b[0m result \u001b[38;5;241m=\u001b[39m \u001b[38;5;28;01mNone\u001b[39;00m\n\u001b[1;32m   1765\u001b[0m called_always_called_hooks \u001b[38;5;241m=\u001b[39m \u001b[38;5;28mset\u001b[39m()\n",
      "File \u001b[0;32m~/work/pytroch-deep-learning/.PTDL-venv/lib/python3.10/site-packages/torch/nn/modules/container.py:240\u001b[0m, in \u001b[0;36mSequential.forward\u001b[0;34m(self, input)\u001b[0m\n\u001b[1;32m    238\u001b[0m \u001b[38;5;28;01mdef\u001b[39;00m\u001b[38;5;250m \u001b[39m\u001b[38;5;21mforward\u001b[39m(\u001b[38;5;28mself\u001b[39m, \u001b[38;5;28minput\u001b[39m):\n\u001b[1;32m    239\u001b[0m     \u001b[38;5;28;01mfor\u001b[39;00m module \u001b[38;5;129;01min\u001b[39;00m \u001b[38;5;28mself\u001b[39m:\n\u001b[0;32m--> 240\u001b[0m         \u001b[38;5;28minput\u001b[39m \u001b[38;5;241m=\u001b[39m \u001b[43mmodule\u001b[49m\u001b[43m(\u001b[49m\u001b[38;5;28;43minput\u001b[39;49m\u001b[43m)\u001b[49m\n\u001b[1;32m    241\u001b[0m     \u001b[38;5;28;01mreturn\u001b[39;00m \u001b[38;5;28minput\u001b[39m\n",
      "File \u001b[0;32m~/work/pytroch-deep-learning/.PTDL-venv/lib/python3.10/site-packages/torch/nn/modules/module.py:1751\u001b[0m, in \u001b[0;36mModule._wrapped_call_impl\u001b[0;34m(self, *args, **kwargs)\u001b[0m\n\u001b[1;32m   1749\u001b[0m     \u001b[38;5;28;01mreturn\u001b[39;00m \u001b[38;5;28mself\u001b[39m\u001b[38;5;241m.\u001b[39m_compiled_call_impl(\u001b[38;5;241m*\u001b[39margs, \u001b[38;5;241m*\u001b[39m\u001b[38;5;241m*\u001b[39mkwargs)  \u001b[38;5;66;03m# type: ignore[misc]\u001b[39;00m\n\u001b[1;32m   1750\u001b[0m \u001b[38;5;28;01melse\u001b[39;00m:\n\u001b[0;32m-> 1751\u001b[0m     \u001b[38;5;28;01mreturn\u001b[39;00m \u001b[38;5;28;43mself\u001b[39;49m\u001b[38;5;241;43m.\u001b[39;49m\u001b[43m_call_impl\u001b[49m\u001b[43m(\u001b[49m\u001b[38;5;241;43m*\u001b[39;49m\u001b[43margs\u001b[49m\u001b[43m,\u001b[49m\u001b[43m \u001b[49m\u001b[38;5;241;43m*\u001b[39;49m\u001b[38;5;241;43m*\u001b[39;49m\u001b[43mkwargs\u001b[49m\u001b[43m)\u001b[49m\n",
      "File \u001b[0;32m~/work/pytroch-deep-learning/.PTDL-venv/lib/python3.10/site-packages/torch/nn/modules/module.py:1762\u001b[0m, in \u001b[0;36mModule._call_impl\u001b[0;34m(self, *args, **kwargs)\u001b[0m\n\u001b[1;32m   1757\u001b[0m \u001b[38;5;66;03m# If we don't have any hooks, we want to skip the rest of the logic in\u001b[39;00m\n\u001b[1;32m   1758\u001b[0m \u001b[38;5;66;03m# this function, and just call forward.\u001b[39;00m\n\u001b[1;32m   1759\u001b[0m \u001b[38;5;28;01mif\u001b[39;00m \u001b[38;5;129;01mnot\u001b[39;00m (\u001b[38;5;28mself\u001b[39m\u001b[38;5;241m.\u001b[39m_backward_hooks \u001b[38;5;129;01mor\u001b[39;00m \u001b[38;5;28mself\u001b[39m\u001b[38;5;241m.\u001b[39m_backward_pre_hooks \u001b[38;5;129;01mor\u001b[39;00m \u001b[38;5;28mself\u001b[39m\u001b[38;5;241m.\u001b[39m_forward_hooks \u001b[38;5;129;01mor\u001b[39;00m \u001b[38;5;28mself\u001b[39m\u001b[38;5;241m.\u001b[39m_forward_pre_hooks\n\u001b[1;32m   1760\u001b[0m         \u001b[38;5;129;01mor\u001b[39;00m _global_backward_pre_hooks \u001b[38;5;129;01mor\u001b[39;00m _global_backward_hooks\n\u001b[1;32m   1761\u001b[0m         \u001b[38;5;129;01mor\u001b[39;00m _global_forward_hooks \u001b[38;5;129;01mor\u001b[39;00m _global_forward_pre_hooks):\n\u001b[0;32m-> 1762\u001b[0m     \u001b[38;5;28;01mreturn\u001b[39;00m \u001b[43mforward_call\u001b[49m\u001b[43m(\u001b[49m\u001b[38;5;241;43m*\u001b[39;49m\u001b[43margs\u001b[49m\u001b[43m,\u001b[49m\u001b[43m \u001b[49m\u001b[38;5;241;43m*\u001b[39;49m\u001b[38;5;241;43m*\u001b[39;49m\u001b[43mkwargs\u001b[49m\u001b[43m)\u001b[49m\n\u001b[1;32m   1764\u001b[0m result \u001b[38;5;241m=\u001b[39m \u001b[38;5;28;01mNone\u001b[39;00m\n\u001b[1;32m   1765\u001b[0m called_always_called_hooks \u001b[38;5;241m=\u001b[39m \u001b[38;5;28mset\u001b[39m()\n",
      "File \u001b[0;32m~/work/pytroch-deep-learning/.PTDL-venv/lib/python3.10/site-packages/torch/nn/modules/linear.py:125\u001b[0m, in \u001b[0;36mLinear.forward\u001b[0;34m(self, input)\u001b[0m\n\u001b[1;32m    124\u001b[0m \u001b[38;5;28;01mdef\u001b[39;00m\u001b[38;5;250m \u001b[39m\u001b[38;5;21mforward\u001b[39m(\u001b[38;5;28mself\u001b[39m, \u001b[38;5;28minput\u001b[39m: Tensor) \u001b[38;5;241m-\u001b[39m\u001b[38;5;241m>\u001b[39m Tensor:\n\u001b[0;32m--> 125\u001b[0m     \u001b[38;5;28;01mreturn\u001b[39;00m \u001b[43mF\u001b[49m\u001b[38;5;241;43m.\u001b[39;49m\u001b[43mlinear\u001b[49m\u001b[43m(\u001b[49m\u001b[38;5;28;43minput\u001b[39;49m\u001b[43m,\u001b[49m\u001b[43m \u001b[49m\u001b[38;5;28;43mself\u001b[39;49m\u001b[38;5;241;43m.\u001b[39;49m\u001b[43mweight\u001b[49m\u001b[43m,\u001b[49m\u001b[43m \u001b[49m\u001b[38;5;28;43mself\u001b[39;49m\u001b[38;5;241;43m.\u001b[39;49m\u001b[43mbias\u001b[49m\u001b[43m)\u001b[49m\n",
      "\u001b[0;31mRuntimeError\u001b[0m: mat1 and mat2 shapes cannot be multiplied (10x49 and 10x10)"
     ]
    }
   ],
   "source": [
    "# forward pass \n",
    "model_2(rgb_tensor.to(DEVICE))\n"
   ]
  },
  {
   "cell_type": "code",
   "execution_count": 150,
   "id": "c7d6e89b",
   "metadata": {},
   "outputs": [],
   "source": [
    "# okay so the reason for above error is that in our classifier layer we have nn.flatten() \n",
    "# the block_2 layer give us the shape of 10, 7, 7 this is passed to the nn.flatten which gives us \n",
    "# 10, 49 as output_size but our linear layer is 10, 10 (10 hidden_units, 10 classes) \n",
    "# for matrix multiplication inner dimensions should match which doesn't \n",
    "# so how to fix this we can do it by changing the hidden_units for our linear-layer \n",
    "# \n"
   ]
  },
  {
   "cell_type": "markdown",
   "id": "d6b058c4",
   "metadata": {},
   "source": [
    "## Fixed CNN Model- shape mismatch fix"
   ]
  },
  {
   "cell_type": "code",
   "execution_count": 151,
   "metadata": {},
   "outputs": [],
   "source": [
    "class FashionMNISTModelV3(nn.Module):\n",
    "    \"\"\"We will be implementing the TinyVGG arch\"\"\"\n",
    "    def __init__(self, input_features, output_features, hidden_units):\n",
    "        super().__init__()\n",
    "        self.block_1 = nn.Sequential(\n",
    "            # nn.Conv2d - this is for 2-d data as we have height and width for image we also have\n",
    "            # nn.Conv1d adn nn.Conv3d \n",
    "            # Values [kernel_size, stride, padding] which we can set are called hyperparameters\n",
    "\n",
    "            nn.Conv2d(\n",
    "                in_channels= input_features,\n",
    "                out_channels=hidden_units,\n",
    "                kernel_size=3, \n",
    "                stride=1,\n",
    "                padding=1\n",
    "            ),\n",
    "            nn.ReLU(),\n",
    "            nn.Conv2d(\n",
    "                in_channels=hidden_units,\n",
    "                out_channels=hidden_units,\n",
    "                kernel_size=3, \n",
    "                stride=1, \n",
    "                padding=1\n",
    "            ),\n",
    "            nn.ReLU(),\n",
    "            nn.MaxPool2d(kernel_size=2, stride=2)\n",
    "        )\n",
    "\n",
    "        self.block_2 = nn.Sequential(\n",
    "            nn.Conv2d(\n",
    "                in_channels=hidden_units, \n",
    "                out_channels=hidden_units, \n",
    "                kernel_size= 3, \n",
    "                stride=1,\n",
    "                padding=1\n",
    "            ),\n",
    "            nn.ReLU(),\n",
    "            nn.Conv2d(\n",
    "                in_channels=hidden_units, \n",
    "                out_channels=hidden_units,\n",
    "                kernel_size=3, \n",
    "                stride=1, \n",
    "                padding=1\n",
    "            ),\n",
    "            nn.ReLU(),\n",
    "            nn.MaxPool2d(2, 2)\n",
    "        )\n",
    "\n",
    "        self.classifier_layer = nn.Sequential(\n",
    "            nn.Flatten(),\n",
    "            nn.Linear(in_features=hidden_units*7*7, \n",
    "                      out_features=output_features)\n",
    "        )\n",
    "\n",
    "\n",
    "    def forward(self, x):\n",
    "        x = self.block_1(x)\n",
    "        \n",
    "        x = self.block_2(x)\n",
    "        \n",
    "        x = self.classifier_layer(x)\n",
    "        return x \n"
   ]
  },
  {
   "cell_type": "code",
   "execution_count": 152,
   "id": "4b9d97da",
   "metadata": {},
   "outputs": [
    {
     "data": {
      "text/plain": [
       "FashionMNISTModelV3(\n",
       "  (block_1): Sequential(\n",
       "    (0): Conv2d(3, 10, kernel_size=(3, 3), stride=(1, 1), padding=(1, 1))\n",
       "    (1): ReLU()\n",
       "    (2): Conv2d(10, 10, kernel_size=(3, 3), stride=(1, 1), padding=(1, 1))\n",
       "    (3): ReLU()\n",
       "    (4): MaxPool2d(kernel_size=2, stride=2, padding=0, dilation=1, ceil_mode=False)\n",
       "  )\n",
       "  (block_2): Sequential(\n",
       "    (0): Conv2d(10, 10, kernel_size=(3, 3), stride=(1, 1), padding=(1, 1))\n",
       "    (1): ReLU()\n",
       "    (2): Conv2d(10, 10, kernel_size=(3, 3), stride=(1, 1), padding=(1, 1))\n",
       "    (3): ReLU()\n",
       "    (4): MaxPool2d(kernel_size=2, stride=2, padding=0, dilation=1, ceil_mode=False)\n",
       "  )\n",
       "  (classifier_layer): Sequential(\n",
       "    (0): Flatten(start_dim=1, end_dim=-1)\n",
       "    (1): Linear(in_features=490, out_features=10, bias=True)\n",
       "  )\n",
       ")"
      ]
     },
     "execution_count": 152,
     "metadata": {},
     "output_type": "execute_result"
    }
   ],
   "source": [
    "torch.manual_seed(42)\n",
    "model_2 = FashionMNISTModelV3(\n",
    "    input_features=3, \n",
    "    output_features=10, \n",
    "    hidden_units=10\n",
    ").to(DEVICE)\n",
    "\n",
    "model_2\n"
   ]
  },
  {
   "cell_type": "code",
   "execution_count": 153,
   "metadata": {},
   "outputs": [
    {
     "data": {
      "text/plain": [
       "tensor([[ 0.0043, -0.0754, -0.0439, -0.0204,  0.0119, -0.0186,  0.0190,  0.0716,\n",
       "         -0.0267, -0.0134]], device='cuda:0', grad_fn=<AddmmBackward0>)"
      ]
     },
     "execution_count": 153,
     "metadata": {},
     "output_type": "execute_result"
    }
   ],
   "source": [
    "model_2(rgb_tensor.unsqueeze(0).to(DEVICE))\n"
   ]
  },
  {
   "cell_type": "markdown",
   "id": "5e73f067",
   "metadata": {},
   "source": [
    "## Loss, Accuracy, Optimizer for CNN Model"
   ]
  },
  {
   "cell_type": "code",
   "execution_count": 154,
   "id": "684c68bd",
   "metadata": {},
   "outputs": [
    {
     "data": {
      "text/plain": [
       "FashionMNISTModelV3(\n",
       "  (block_1): Sequential(\n",
       "    (0): Conv2d(1, 10, kernel_size=(3, 3), stride=(1, 1), padding=(1, 1))\n",
       "    (1): ReLU()\n",
       "    (2): Conv2d(10, 10, kernel_size=(3, 3), stride=(1, 1), padding=(1, 1))\n",
       "    (3): ReLU()\n",
       "    (4): MaxPool2d(kernel_size=2, stride=2, padding=0, dilation=1, ceil_mode=False)\n",
       "  )\n",
       "  (block_2): Sequential(\n",
       "    (0): Conv2d(10, 10, kernel_size=(3, 3), stride=(1, 1), padding=(1, 1))\n",
       "    (1): ReLU()\n",
       "    (2): Conv2d(10, 10, kernel_size=(3, 3), stride=(1, 1), padding=(1, 1))\n",
       "    (3): ReLU()\n",
       "    (4): MaxPool2d(kernel_size=2, stride=2, padding=0, dilation=1, ceil_mode=False)\n",
       "  )\n",
       "  (classifier_layer): Sequential(\n",
       "    (0): Flatten(start_dim=1, end_dim=-1)\n",
       "    (1): Linear(in_features=490, out_features=10, bias=True)\n",
       "  )\n",
       ")"
      ]
     },
     "execution_count": 154,
     "metadata": {},
     "output_type": "execute_result"
    }
   ],
   "source": [
    "torch.manual_seed(42)\n",
    "model_2 = FashionMNISTModelV3(\n",
    "    input_features=1, \n",
    "    output_features=10, \n",
    "    hidden_units=10\n",
    ").to(DEVICE)\n",
    "\n",
    "model_2\n"
   ]
  },
  {
   "cell_type": "code",
   "execution_count": 155,
   "id": "ade741e2",
   "metadata": {},
   "outputs": [],
   "source": [
    "loss_fn = nn.CrossEntropyLoss()\n",
    "optimizer = torch.optim.SGD(model_2.parameters(), lr = 0.1)\n",
    "accuracy_fn = torchmetrics.Accuracy(task=\"multiclass\", num_classes=10).to(DEVICE)\n"
   ]
  },
  {
   "cell_type": "markdown",
   "id": "e9157240",
   "metadata": {},
   "source": [
    "## Training loop \n"
   ]
  },
  {
   "cell_type": "code",
   "execution_count": 156,
   "id": "e470b3ec",
   "metadata": {},
   "outputs": [
    {
     "name": "stderr",
     "output_type": "stream",
     "text": [
      "  0%|          | 0/3 [00:00<?, ?it/s]"
     ]
    },
    {
     "name": "stderr",
     "output_type": "stream",
     "text": [
      " 33%|███▎      | 1/3 [00:09<00:19,  9.71s/it]"
     ]
    },
    {
     "name": "stdout",
     "output_type": "stream",
     "text": [
      "Training Loss: 0.591 | Training Accuracy: 0.785\n"
     ]
    },
    {
     "name": "stderr",
     "output_type": "stream",
     "text": [
      " 67%|██████▋   | 2/3 [00:19<00:09,  9.64s/it]"
     ]
    },
    {
     "name": "stdout",
     "output_type": "stream",
     "text": [
      "Training Loss: 0.359 | Training Accuracy: 0.870\n"
     ]
    },
    {
     "name": "stderr",
     "output_type": "stream",
     "text": [
      "100%|██████████| 3/3 [00:28<00:00,  9.65s/it]"
     ]
    },
    {
     "name": "stdout",
     "output_type": "stream",
     "text": [
      "Training Loss: 0.322 | Training Accuracy: 0.884\n",
      "Time Taken on device gpu: 28.959 seconds\n"
     ]
    },
    {
     "name": "stderr",
     "output_type": "stream",
     "text": [
      "\n"
     ]
    }
   ],
   "source": [
    "EPOCHS = 3\n",
    "\n",
    "torch.manual_seed(42)\n",
    "\n",
    "train_time_start = timer()\n",
    "\n",
    "for epoch in tqdm(range(EPOCHS)):\n",
    "    train_step(\n",
    "        model=model_2,\n",
    "        dataloader=train_dataloader,\n",
    "        loss_function=loss_fn,\n",
    "        optimizer=optimizer,\n",
    "        accuracy=accuracy_fn,\n",
    "        device=DEVICE\n",
    "    )\n",
    "\n",
    "\n",
    "\n",
    "train_time_end = timer()\n",
    "\n",
    "total_time = print_train_time(start=train_time_start, end=train_time_end, device='gpu')\n"
   ]
  },
  {
   "cell_type": "code",
   "execution_count": 157,
   "id": "6f2e9891",
   "metadata": {},
   "outputs": [
    {
     "name": "stderr",
     "output_type": "stream",
     "text": [
      " 19%|█▊        | 58/313 [00:00<00:00, 261.84it/s]"
     ]
    },
    {
     "name": "stderr",
     "output_type": "stream",
     "text": [
      "100%|██████████| 313/313 [00:01<00:00, 275.92it/s]\n"
     ]
    },
    {
     "name": "stdout",
     "output_type": "stream",
     "text": [
      "\n",
      "📊 Evaluation Results\n",
      "----------------------------\n",
      "🧠 Model Class : FashionMNISTModelV3\n",
      "💻 Device      : cuda\n",
      "🔢 Accuracy    : 86.77%\n",
      "📉 Loss        : 0.3635\n",
      "\n"
     ]
    }
   ],
   "source": [
    "model_2_result = eval_model(model_2, test_dataloader, accuracy_fn, loss_fn, DEVICE)\n"
   ]
  },
  {
   "cell_type": "markdown",
   "id": "ec62bd6d",
   "metadata": {},
   "source": [
    "## Compare model Results"
   ]
  },
  {
   "cell_type": "code",
   "execution_count": 158,
   "id": "20f351ce",
   "metadata": {},
   "outputs": [
    {
     "name": "stderr",
     "output_type": "stream",
     "text": [
      "100%|██████████| 313/313 [00:01<00:00, 305.46it/s]\n"
     ]
    },
    {
     "name": "stdout",
     "output_type": "stream",
     "text": [
      "\n",
      "📊 Evaluation Results\n",
      "----------------------------\n",
      "🧠 Model Class : FashionMNISTModelV1\n",
      "💻 Device      : cuda\n",
      "🔢 Accuracy    : 81.42%\n",
      "📉 Loss        : 0.5298\n",
      "\n"
     ]
    },
    {
     "name": "stderr",
     "output_type": "stream",
     "text": [
      "100%|██████████| 313/313 [00:01<00:00, 310.36it/s]"
     ]
    },
    {
     "name": "stdout",
     "output_type": "stream",
     "text": [
      "\n",
      "📊 Evaluation Results\n",
      "----------------------------\n",
      "🧠 Model Class : FashionMNISTModel0\n",
      "💻 Device      : cuda\n",
      "🔢 Accuracy    : 83.48%\n",
      "📉 Loss        : 0.4777\n",
      "\n"
     ]
    },
    {
     "name": "stderr",
     "output_type": "stream",
     "text": [
      "\n"
     ]
    }
   ],
   "source": [
    "model_1_result = eval_model(model_1, test_dataloader, accuracy_fn, loss_fn, DEVICE)\n",
    "model_0_result = eval_model(model_0, test_dataloader, accuracy_fn, loss_fn, DEVICE)\n"
   ]
  },
  {
   "cell_type": "code",
   "execution_count": 161,
   "id": "1d4e26f3",
   "metadata": {},
   "outputs": [
    {
     "data": {
      "text/html": [
       "<div>\n",
       "<style scoped>\n",
       "    .dataframe tbody tr th:only-of-type {\n",
       "        vertical-align: middle;\n",
       "    }\n",
       "\n",
       "    .dataframe tbody tr th {\n",
       "        vertical-align: top;\n",
       "    }\n",
       "\n",
       "    .dataframe thead th {\n",
       "        text-align: right;\n",
       "    }\n",
       "</style>\n",
       "<table border=\"1\" class=\"dataframe\">\n",
       "  <thead>\n",
       "    <tr style=\"text-align: right;\">\n",
       "      <th></th>\n",
       "      <th>model class Name</th>\n",
       "      <th>loss</th>\n",
       "      <th>acc</th>\n",
       "      <th>device</th>\n",
       "    </tr>\n",
       "  </thead>\n",
       "  <tbody>\n",
       "    <tr>\n",
       "      <th>0</th>\n",
       "      <td>FashionMNISTModel0</td>\n",
       "      <td>0.477732</td>\n",
       "      <td>0.8348</td>\n",
       "      <td>cuda</td>\n",
       "    </tr>\n",
       "    <tr>\n",
       "      <th>1</th>\n",
       "      <td>FashionMNISTModelV1</td>\n",
       "      <td>0.529769</td>\n",
       "      <td>0.8142</td>\n",
       "      <td>cuda</td>\n",
       "    </tr>\n",
       "    <tr>\n",
       "      <th>2</th>\n",
       "      <td>FashionMNISTModelV3</td>\n",
       "      <td>0.363522</td>\n",
       "      <td>0.8677</td>\n",
       "      <td>cuda</td>\n",
       "    </tr>\n",
       "  </tbody>\n",
       "</table>\n",
       "</div>"
      ],
      "text/plain": [
       "      model class Name      loss     acc device\n",
       "0   FashionMNISTModel0  0.477732  0.8348   cuda\n",
       "1  FashionMNISTModelV1  0.529769  0.8142   cuda\n",
       "2  FashionMNISTModelV3  0.363522  0.8677   cuda"
      ]
     },
     "execution_count": 161,
     "metadata": {},
     "output_type": "execute_result"
    }
   ],
   "source": [
    "import pandas as pd\n",
    "\n",
    "eval_result = pd.DataFrame([model_0_result, model_1_result, model_2_result])\n",
    "eval_result\n"
   ]
  },
  {
   "cell_type": "code",
   "execution_count": 164,
   "id": "fda774eb",
   "metadata": {},
   "outputs": [
    {
     "data": {
      "image/png": "[encoded data removed]",
      "text/plain": [
       "<Figure size 640x480 with 1 Axes>"
      ]
     },
     "metadata": {},
     "output_type": "display_data"
    }
   ],
   "source": [
    "# Visualize our model results\n",
    "eval_result.set_index(\"model class Name\")[\"acc\"].plot(kind=\"barh\")\n",
    "plt.xlabel(\"accuracy (%)\")\n",
    "plt.ylabel(\"model\");\n"
   ]
  },
  {
   "cell_type": "code",
   "execution_count": null,
   "id": "12abe5fc",
   "metadata": {},
   "outputs": [],
   "source": []
  },
  {
   "cell_type": "code",
   "execution_count": null,
   "id": "dd0214ae",
   "metadata": {},
   "outputs": [],
   "source": []
  },
  {
   "cell_type": "code",
   "execution_count": null,
   "id": "202f3f3d",
   "metadata": {},
   "outputs": [],
   "source": []
  },
  {
   "cell_type": "code",
   "execution_count": null,
   "id": "df9e1ce2",
   "metadata": {},
   "outputs": [],
   "source": []
  },
  {
   "cell_type": "code",
   "execution_count": null,
   "id": "33e7e0c5",
   "metadata": {},
   "outputs": [],
   "source": []
  },
  {
   "cell_type": "code",
   "execution_count": null,
   "id": "cca243fb",
   "metadata": {},
   "outputs": [],
   "source": []
  },
  {
   "cell_type": "code",
   "execution_count": null,
   "id": "5dc9e38a",
   "metadata": {},
   "outputs": [],
   "source": []
  },
  {
   "cell_type": "code",
   "execution_count": null,
   "id": "fa11028a",
   "metadata": {},
   "outputs": [],
   "source": []
  },
  {
   "cell_type": "code",
   "execution_count": null,
   "id": "7e3f328e",
   "metadata": {},
   "outputs": [],
   "source": []
  },
  {
   "cell_type": "code",
   "execution_count": null,
   "id": "f8ab72aa",
   "metadata": {},
   "outputs": [],
   "source": []
  },
  {
   "cell_type": "code",
   "execution_count": null,
   "id": "2b0b0e1e",
   "metadata": {},
   "outputs": [],
   "source": []
  }
 ],
 "metadata": {
  "kernelspec": {
   "display_name": "Python 3 (ipykernel)",
   "language": "python",
   "name": "python3"
  },
  "language_info": {
   "codemirror_mode": {
    "name": "ipython",
    "version": 3
   },
   "file_extension": ".py",
   "mimetype": "text/x-python",
   "name": "python",
   "nbconvert_exporter": "python",
   "pygments_lexer": "ipython3",
   "version": "3.10.17"
  }
 },
 "nbformat": 4,
 "nbformat_minor": 5
}
