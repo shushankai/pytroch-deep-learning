{
 "cells": [
  {
   "cell_type": "markdown",
   "id": "5aa1fe53",
   "metadata": {},
   "source": [
    "# Computer Vision and Convolutional Neural Network"
   ]
  },
  {
   "cell_type": "markdown",
   "id": "a1c742ba",
   "metadata": {},
   "source": [
    "## What we're going to cover\n"
   ]
  },
  {
   "cell_type": "markdown",
   "id": "d9c96989",
   "metadata": {},
   "source": [
    "\n",
    "We're going to apply the PyTorch Workflow we've been learning in the past couple of sections to computer vision.\n",
    "\n",
    "![a PyTorch workflow with a computer vision focus](https://raw.githubusercontent.com/mrdbourke/pytorch-deep-learning/main/images/03-pytorch-computer-vision-workflow.png)\n",
    "\n",
    "Specifically, we're going to cover:\n",
    "\n",
    "| **Topic** | **Contents** |\n",
    "| ----- | ----- |\n",
    "| **0. Computer vision libraries in PyTorch** | PyTorch has a bunch of built-in helpful computer vision libraries, let's check them out.  |\n",
    "| **1. Load data** | To practice computer vision, we'll start with some images of different pieces of clothing from [FashionMNIST](https://github.com/zalandoresearch/fashion-mnist). |\n",
    "| **2. Prepare data** | We've got some images, let's load them in with a [PyTorch `DataLoader`](https://pytorch.org/docs/stable/data.html) so we can use them with our training loop. |\n",
    "| **3. Model 0: Building a baseline model** | Here we'll create a multi-class classification model to learn patterns in the data, we'll also choose a **loss function**, **optimizer** and build a **training loop**. | \n",
    "| **4. Making predictions and evaluating model 0** | Let's make some predictions with our baseline model and evaluate them. |\n",
    "| **5. Setup device agnostic code for future models** | It's best practice to write device-agnostic code, so let's set it up. |\n",
    "| **6. Model 1: Adding non-linearity** | Experimenting is a large part of machine learning, let's try and improve upon our baseline model by adding non-linear layers. |\n",
    "| **7. Model 2: Convolutional Neural Network (CNN)** | Time to get computer vision specific and introduce the powerful convolutional neural network architecture. |\n",
    "| **8. Comparing our models** | We've built three different models, let's compare them. |\n",
    "| **9. Evaluating our best model** | Let's make some predictions on random images and evaluate our best model. |\n",
    "| **10. Making a confusion matrix** | A confusion matrix is a great way to evaluate a classification model, let's see how we can make one. |\n",
    "| **11. Saving and loading the best performing model** | Since we might want to use our model for later, let's save it and make sure it loads back in correctly. |"
   ]
  },
  {
   "cell_type": "markdown",
   "metadata": {},
   "source": [
    "**0. Computer vision libraries in PyTorch**\n",
    "\n",
    "Before we get started writing code, let's talk about some PyTorch computer vision libraries you should be aware of.\n",
    "\n",
    "| PyTorch module | What does it do? |\n",
    "| ----- | ----- |\n",
    "| [`torchvision`](https://pytorch.org/vision/stable/index.html) | Contains datasets, model architectures and image transformations often used for computer vision problems. |\n",
    "| [`torchvision.datasets`](https://pytorch.org/vision/stable/datasets.html) | Here you'll find many example computer vision datasets for a range of problems from image classification, object detection, image captioning, video classification and more. It also contains [a series of base classes for making custom datasets](https://pytorch.org/vision/stable/datasets.html#base-classes-for-custom-datasets). |\n",
    "| [`torchvision.models`](https://pytorch.org/vision/stable/models.html) | This module contains well-performing and commonly used computer vision model architectures implemented in PyTorch, you can use these with your own problems. | \n",
    "| [`torchvision.transforms`](https://pytorch.org/vision/stable/transforms.html) | Often images need to be transformed (turned into numbers/processed/augmented) before being used with a model, common image transformations are found here. | \n",
    "| [`torch.utils.data.Dataset`](https://pytorch.org/docs/stable/data.html#torch.utils.data.Dataset) | Base dataset class for PyTorch.  | \n",
    "| [`torch.utils.data.DataLoader`](https://pytorch.org/docs/stable/data.html#module-torch.utils.data) | Creates a Python iterable over a dataset (created with `torch.utils.data.Dataset`). |\n",
    "\n",
    "> **Note:** The `torch.utils.data.Dataset` and `torch.utils.data.DataLoader` classes aren't only for computer vision in PyTorch, they are capable of dealing with many different types of data.\n",
    "\n",
    "Now we've covered some of the most important PyTorch computer vision libraries, let's import the relevant dependencies.\n"
   ]
  },
  {
   "cell_type": "markdown",
   "id": "137e6141",
   "metadata": {},
   "source": [
    "## Imports"
   ]
  },
  {
   "cell_type": "code",
   "execution_count": 77,
   "id": "79f60751",
   "metadata": {},
   "outputs": [
    {
     "name": "stdout",
     "output_type": "stream",
     "text": [
      "The autoreload extension is already loaded. To reload it, use:\n",
      "  %reload_ext autoreload\n"
     ]
    }
   ],
   "source": [
    "# Import pytorch\n",
    "import torch\n",
    "from torch import nn\n",
    "\n",
    "# Import TorchVision\n",
    "import torchvision\n",
    "from torchvision import datasets\n",
    "from torchvision import transforms\n",
    "from torchvision.transforms import ToTensor\n",
    "\n",
    "\n",
    "import numpy as np \n",
    "import matplotlib.pyplot as plt \n",
    "\n",
    "%load_ext autoreload\n",
    "%autoreload 2 \n"
   ]
  },
  {
   "cell_type": "code",
   "execution_count": 78,
   "id": "2edc8eb6",
   "metadata": {},
   "outputs": [
    {
     "name": "stdout",
     "output_type": "stream",
     "text": [
      "PyTorch Version: 2.7.0+cu126 & TorchVision Version: 0.22.0+cu126\n"
     ]
    }
   ],
   "source": [
    "print(f\"PyTorch Version: {torch.__version__} & TorchVision Version: {torchvision.__version__}\")\n"
   ]
  },
  {
   "cell_type": "code",
   "execution_count": 79,
   "id": "092b1ea3",
   "metadata": {},
   "outputs": [
    {
     "data": {
      "text/plain": [
       "device(type='cuda')"
      ]
     },
     "execution_count": 79,
     "metadata": {},
     "output_type": "execute_result"
    }
   ],
   "source": [
    "DEVICE = torch.device('cuda' if torch.cuda.is_available() else 'cpu')\n",
    "DEVICE\n"
   ]
  },
  {
   "cell_type": "markdown",
   "id": "f36ec29e",
   "metadata": {},
   "source": [
    "## Getting Dataset"
   ]
  },
  {
   "cell_type": "markdown",
   "id": "88892c60",
   "metadata": {},
   "source": [
    "We will be using ([FashionMNIST](https://github.com/zalandoresearch/fashion-mnist)) "
   ]
  },
  {
   "cell_type": "code",
   "execution_count": 80,
   "id": "9013171a",
   "metadata": {},
   "outputs": [],
   "source": [
    "train_data = datasets.FashionMNIST(root=f\"/home/shushanksingh/work/pytroch-deep-learning/Data\", \n",
    "                                train=True, \n",
    "                                download=True, \n",
    "                                transform=ToTensor(),\n",
    "                                target_transform=None\n",
    "                                )\n",
    "\n",
    "test_data = datasets.FashionMNIST(root=f\"/home/shushanksingh/work/pytroch-deep-learning/Data\",\n",
    "                                  train= False, \n",
    "                                  transform=ToTensor(),\n",
    "                                  target_transform=None,\n",
    "                                  download=True\n",
    "                                  )\n"
   ]
  },
  {
   "cell_type": "code",
   "execution_count": 81,
   "id": "8bcc00fb",
   "metadata": {},
   "outputs": [
    {
     "data": {
      "text/plain": [
       "(60000, 10000, torchvision.datasets.mnist.FashionMNIST)"
      ]
     },
     "execution_count": 81,
     "metadata": {},
     "output_type": "execute_result"
    }
   ],
   "source": [
    "len(train_data), len(test_data), type(train_data)\n"
   ]
  },
  {
   "cell_type": "code",
   "execution_count": 82,
   "id": "95d70033",
   "metadata": {},
   "outputs": [
    {
     "name": "stdout",
     "output_type": "stream",
     "text": [
      "Shape of Image is: torch.Size([1, 28, 28]) -> [color_channel, height, width] and the label for this image is: 9\n"
     ]
    }
   ],
   "source": [
    "image, label = train_data[0]\n",
    "print(f\"Shape of Image is: {image.shape} -> [color_channel, height, width] and the label for this image is: {label}\")\n",
    "# 1 as color channel means its a black and white image\n"
   ]
  },
  {
   "cell_type": "code",
   "execution_count": 83,
   "id": "a7409025",
   "metadata": {},
   "outputs": [
    {
     "name": "stdout",
     "output_type": "stream",
     "text": [
      "['T-shirt/top', 'Trouser', 'Pullover', 'Dress', 'Coat', 'Sandal', 'Shirt', 'Sneaker', 'Bag', 'Ankle boot']\n",
      "{'T-shirt/top': 0, 'Trouser': 1, 'Pullover': 2, 'Dress': 3, 'Coat': 4, 'Sandal': 5, 'Shirt': 6, 'Sneaker': 7, 'Bag': 8, 'Ankle boot': 9}\n",
      "Image at index 0 is of classes : Ankle boot\n"
     ]
    }
   ],
   "source": [
    "classes = train_data.classes\n",
    "print(classes)\n",
    "print(train_data.class_to_idx)\n",
    "print(f\"Image at index 0 is of classes : {train_data.classes[label]}\")\n"
   ]
  },
  {
   "cell_type": "code",
   "execution_count": 84,
   "id": "d0e676e4",
   "metadata": {},
   "outputs": [
    {
     "data": {
      "image/png": "[encoded data removed]",
      "text/plain": [
       "<Figure size 640x480 with 1 Axes>"
      ]
     },
     "metadata": {},
     "output_type": "display_data"
    }
   ],
   "source": [
    "plt.imshow(image.squeeze());\n",
    "plt.title(classes[label]);\n",
    "plt.axis(False);\n"
   ]
  },
  {
   "cell_type": "code",
   "execution_count": 85,
   "id": "7fecb26f",
   "metadata": {},
   "outputs": [
    {
     "data": {
      "image/png": "[encoded data removed]",
      "text/plain": [
       "<Figure size 640x480 with 1 Axes>"
      ]
     },
     "metadata": {},
     "output_type": "display_data"
    }
   ],
   "source": [
    "plt.imshow(image.squeeze(), cmap='grey');\n",
    "plt.title(classes[label]);\n",
    "plt.axis(False);\n"
   ]
  },
  {
   "cell_type": "code",
   "execution_count": 86,
   "id": "3258b414",
   "metadata": {},
   "outputs": [
    {
     "data": {
      "image/png": "[encoded data removed]",
      "text/plain": [
       "<Figure size 900x900 with 16 Axes>"
      ]
     },
     "metadata": {},
     "output_type": "display_data"
    }
   ],
   "source": [
    "# plotting a subset of images from the dataset\n",
    "torch.manual_seed(42)\n",
    "fig = plt.figure(figsize=(9, 9))\n",
    "row , col = 4, 4\n",
    "for i in range(1, row*col + 1):\n",
    "    randindx = torch.randint(low = 0, high= len(train_data),  size=[1]).item()\n",
    "    img , label = train_data[randindx]\n",
    "    fig.add_subplot(row, col, i)\n",
    "    plt.imshow(img.squeeze(), cmap='grey')\n",
    "    plt.title(classes[label])\n",
    "    plt.axis(False);\n"
   ]
  },
  {
   "cell_type": "markdown",
   "id": "a956cd13",
   "metadata": {},
   "source": [
    "## Dataloader\n"
   ]
  },
  {
   "cell_type": "code",
   "execution_count": 87,
   "id": "aa4a07e2",
   "metadata": {},
   "outputs": [
    {
     "data": {
      "text/plain": [
       "(Dataset FashionMNIST\n",
       "     Number of datapoints: 60000\n",
       "     Root location: /home/shushanksingh/work/pytroch-deep-learning/Data\n",
       "     Split: Train\n",
       "     StandardTransform\n",
       " Transform: ToTensor(),\n",
       " Dataset FashionMNIST\n",
       "     Number of datapoints: 10000\n",
       "     Root location: /home/shushanksingh/work/pytroch-deep-learning/Data\n",
       "     Split: Test\n",
       "     StandardTransform\n",
       " Transform: ToTensor())"
      ]
     },
     "execution_count": 87,
     "metadata": {},
     "output_type": "execute_result"
    }
   ],
   "source": [
    "train_data, test_data\n"
   ]
  },
  {
   "cell_type": "markdown",
   "id": "601cde03",
   "metadata": {},
   "source": [
    "So write now our data is in pytroch datasets but we need it to convert it into dataloader       \n",
    "A Dataloader load the data into the model in batches (min-batches)  \n",
    "Batches : it more computationally efficient and it gives our neural network chances to update its gradients per epoch"
   ]
  },
  {
   "cell_type": "code",
   "execution_count": 114,
   "id": "a78664a3",
   "metadata": {},
   "outputs": [],
   "source": [
    "from torch.utils.data import DataLoader\n",
    "\n",
    "\n",
    "BATCH_SIZE = 32 \n",
    "\n",
    "train_dataloader = DataLoader(\n",
    "    dataset= train_data, \n",
    "    shuffle=True, \n",
    "    batch_size= BATCH_SIZE,\n",
    "    drop_last= True\n",
    ")\n",
    "\n",
    "\n",
    "test_dataloader = DataLoader(\n",
    "    dataset = test_data,\n",
    "    batch_size= BATCH_SIZE, \n",
    "    shuffle = False\n",
    ")\n"
   ]
  },
  {
   "cell_type": "code",
   "execution_count": 89,
   "id": "6dd05c54",
   "metadata": {},
   "outputs": [
    {
     "name": "stdout",
     "output_type": "stream",
     "text": [
      "Dataloaders: (<torch.utils.data.dataloader.DataLoader object at 0x7f6ca8542980>, <torch.utils.data.dataloader.DataLoader object at 0x7f6d009a1ea0>)\n",
      "Length of training dataloader: 1875 of batch size 32\n",
      "Length of training dataloader: 313 of batch size 32\n"
     ]
    }
   ],
   "source": [
    "print(f'Dataloaders: {train_dataloader, test_dataloader}')\n",
    "print(f\"Length of training dataloader: {len(train_dataloader)} of batch size {BATCH_SIZE}\")\n",
    "print(f\"Length of training dataloader: {len(test_dataloader)} of batch size {BATCH_SIZE}\")\n"
   ]
  },
  {
   "cell_type": "code",
   "execution_count": 90,
   "id": "a80c3e04",
   "metadata": {},
   "outputs": [
    {
     "name": "stdout",
     "output_type": "stream",
     "text": [
      "torch.Size([32, 1, 28, 28]) torch.Size([32])\n"
     ]
    }
   ],
   "source": [
    "# what inside our data loader \n",
    "train_features_batch, train_label_batch = next(iter(train_dataloader))  # converted the loader into iterable and getting the next \n",
    "# as our dataloader contains 1872 iterables \n",
    "\n",
    "print(train_features_batch.shape, train_label_batch.shape)\n",
    "\n",
    "# [32, 1, 28, 28] - batch_size, color channel, height, width\n"
   ]
  },
  {
   "cell_type": "code",
   "execution_count": 91,
   "id": "0eb32f8c",
   "metadata": {},
   "outputs": [
    {
     "data": {
      "image/png": "[encoded data removed]",
      "text/plain": [
       "<Figure size 640x480 with 1 Axes>"
      ]
     },
     "metadata": {},
     "output_type": "display_data"
    }
   ],
   "source": [
    "torch.manual_seed(42)\n",
    "randomIdx = torch.randint(0, len(train_features_batch), [1]).item()\n",
    "img, label = train_features_batch[randomIdx], train_label_batch[randomIdx]\n",
    "plt.imshow(img.squeeze(), cmap='grey');\n",
    "plt.title(classes[label]);\n",
    "plt.axis(False);\n"
   ]
  },
  {
   "cell_type": "markdown",
   "id": "0ad36657",
   "metadata": {},
   "source": [
    "## Building model_0: baseline with two linear layers"
   ]
  },
  {
   "cell_type": "markdown",
   "id": "672e3551",
   "metadata": {},
   "source": [
    "A **baseline model** is one of the simplest models you can imagine.\n",
    "\n",
    "You use the baseline as a starting point and try to improve upon it with subsequent, more complicated models.\n",
    "\n",
    "Our baseline will consist of two [`nn.Linear()`](https://pytorch.org/docs/stable/generated/torch.nn.Linear.html) layers."
   ]
  },
  {
   "cell_type": "code",
   "execution_count": 92,
   "id": "5a8c63c3",
   "metadata": {},
   "outputs": [
    {
     "name": "stdout",
     "output_type": "stream",
     "text": [
      "Size of x: torch.Size([1, 28, 28]), and size of output: torch.Size([1, 784])\n"
     ]
    }
   ],
   "source": [
    "flatten = nn.Flatten()\n",
    "x = train_features_batch[0]\n",
    "\n",
    "output = flatten(x) # this internally does the forward pass \n",
    "print(f\"Size of x: {x.shape}, and size of output: {output.shape}\")\n",
    "# x [1, 28, 28] and output = [1, 28*28] -> [1, 784]\n"
   ]
  },
  {
   "cell_type": "code",
   "execution_count": null,
   "id": "5d3904b5",
   "metadata": {},
   "outputs": [],
   "source": [
    "# Model\n",
    "\n",
    "class FashionMNISTModel0(nn.Module):\n",
    "    \"\"\"\n",
    "    Baseline neural network model for FashionMNIST classification.\n",
    "\n",
    "    This model consists of:\n",
    "    - A flattening layer to convert 2D image input into a 1D vector.\n",
    "    - One hidden linear layer.\n",
    "    - An output linear layer for classification.\n",
    "\n",
    "    Args:\n",
    "        input_features (int): Number of input features (e.g., 28*28 for 28x28 images).\n",
    "        output_features (int): Number of output classes (e.g., 10 for FashionMNIST).\n",
    "        hidden_units (int): Number of units in the hidden layer.\n",
    "\n",
    "    Example:\n",
    "        model = FashionMNISTModel0(input_features=784, output_features=10, hidden_units=10)\n",
    "        output = model(torch.randn(32, 1, 28, 28))  # Forward pass with batch of 32 images\n",
    "    \"\"\"\n",
    "    def __init__(\n",
    "            self, \n",
    "            input_features: int, \n",
    "            output_features: int, \n",
    "            hidden_units: int\n",
    "    ):\n",
    "        super().__init__()\n",
    "        # Sequential stack of layers:\n",
    "        # 1. Flatten input from [batch, 1, 28, 28] to [batch, 784]\n",
    "        # 2. Linear layer mapping input to hidden units\n",
    "        # 3. Linear layer mapping hidden units to output classes\n",
    "        self.layer_stack = nn.Sequential(\n",
    "            nn.Flatten(),\n",
    "            nn.Linear(in_features=input_features, out_features=hidden_units),\n",
    "            nn.Linear(in_features=hidden_units, out_features=output_features)\n",
    "        )   \n",
    "    \n",
    "    def forward(self, x):\n",
    "        \"\"\"\n",
    "        Forward pass of the model.\n",
    "\n",
    "        Args:\n",
    "            x (torch.Tensor): Input tensor of shape [batch_size, 1, 28, 28].\n",
    "\n",
    "        Returns:\n",
    "            torch.Tensor: Output logits of shape [batch_size, output_features].\n",
    "        \"\"\"\n",
    "        return self.layer_stack(x)\n"
   ]
  },
  {
   "cell_type": "code",
   "execution_count": 145,
   "id": "ac983889",
   "metadata": {},
   "outputs": [
    {
     "data": {
      "text/plain": [
       "FashionMNISTModel0(\n",
       "  (layer_stack): Sequential(\n",
       "    (0): Flatten(start_dim=1, end_dim=-1)\n",
       "    (1): Linear(in_features=784, out_features=10, bias=True)\n",
       "    (2): Linear(in_features=10, out_features=10, bias=True)\n",
       "  )\n",
       ")"
      ]
     },
     "execution_count": 145,
     "metadata": {},
     "output_type": "execute_result"
    }
   ],
   "source": [
    "model_0 = FashionMNISTModel0(input_features=28*28,  # Image height*width\n",
    "                             output_features=10, # Number of class \n",
    "                             hidden_units=10\n",
    "                             ).to(DEVICE)\n",
    "model_0\n"
   ]
  },
  {
   "cell_type": "code",
   "execution_count": 146,
   "id": "4e630c48",
   "metadata": {},
   "outputs": [
    {
     "name": "stdout",
     "output_type": "stream",
     "text": [
      "Total number of parameters in the model: 7960\n"
     ]
    }
   ],
   "source": [
    "def get_model_parameters(model):\n",
    "    total_params = sum(p.numel() for p in model.parameters())\n",
    "    return total_params\n",
    "\n",
    "total_params = get_model_parameters(model_0)\n",
    "print(f\"Total number of parameters in the model: {total_params}\")\n"
   ]
  },
  {
   "cell_type": "code",
   "execution_count": 147,
   "id": "41ee6144",
   "metadata": {},
   "outputs": [],
   "source": [
    "# dummy_img = torch.rand([1, 1, 28, 28]).to(DEVICE)\n",
    "# print(model_0(dummy_img).shape)\n"
   ]
  },
  {
   "cell_type": "code",
   "execution_count": 148,
   "id": "8830085b",
   "metadata": {},
   "outputs": [
    {
     "data": {
      "text/plain": [
       "OrderedDict([('layer_stack.1.weight',\n",
       "              tensor([[ 0.0264,  0.0048,  0.0172,  ..., -0.0299,  0.0230, -0.0328],\n",
       "                      [-0.0198, -0.0060, -0.0241,  ...,  0.0150,  0.0003, -0.0052],\n",
       "                      [-0.0173, -0.0047, -0.0304,  ..., -0.0306,  0.0014, -0.0078],\n",
       "                      ...,\n",
       "                      [-0.0093,  0.0324,  0.0055,  ..., -0.0044,  0.0154,  0.0208],\n",
       "                      [ 0.0085,  0.0163,  0.0224,  ..., -0.0051,  0.0102, -0.0182],\n",
       "                      [ 0.0015, -0.0176, -0.0216,  ...,  0.0163,  0.0069, -0.0078]],\n",
       "                     device='cuda:0')),\n",
       "             ('layer_stack.1.bias',\n",
       "              tensor([ 0.0002,  0.0307,  0.0238,  0.0122, -0.0257, -0.0120,  0.0228,  0.0321,\n",
       "                      -0.0169,  0.0152], device='cuda:0')),\n",
       "             ('layer_stack.2.weight',\n",
       "              tensor([[-0.0740,  0.2006, -0.0475, -0.2514, -0.3130, -0.0118,  0.0932, -0.1864,\n",
       "                        0.2488,  0.1500],\n",
       "                      [ 0.1907,  0.1457, -0.3050, -0.0580,  0.1643,  0.1565, -0.2877, -0.1792,\n",
       "                        0.2305, -0.2618],\n",
       "                      [ 0.2397, -0.0610,  0.0232,  0.1542,  0.0851, -0.2027,  0.1030, -0.2715,\n",
       "                       -0.1596, -0.0555],\n",
       "                      [-0.0633,  0.2302, -0.1726,  0.2654,  0.1473,  0.1029,  0.2252, -0.2160,\n",
       "                       -0.2725,  0.0118],\n",
       "                      [ 0.1559,  0.1596,  0.0132,  0.3024,  0.1124,  0.1366, -0.1533,  0.0965,\n",
       "                       -0.1184, -0.2555],\n",
       "                      [-0.2057, -0.1909, -0.0477, -0.1324,  0.2905,  0.1307, -0.2629,  0.0133,\n",
       "                        0.2727, -0.0127],\n",
       "                      [ 0.0513,  0.0863, -0.1043, -0.2047, -0.1185, -0.0825,  0.2488, -0.2571,\n",
       "                        0.0425, -0.1209],\n",
       "                      [-0.0336, -0.0281, -0.1227,  0.0730,  0.0747, -0.1816,  0.1943,  0.2853,\n",
       "                       -0.1310,  0.0645],\n",
       "                      [-0.1171,  0.2168, -0.0245, -0.2820,  0.0736,  0.2621,  0.0012, -0.0810,\n",
       "                       -0.0087,  0.1791],\n",
       "                      [ 0.2712, -0.0791,  0.1685,  0.1762,  0.2825,  0.2266, -0.2612, -0.2613,\n",
       "                       -0.2624,  0.1987]], device='cuda:0')),\n",
       "             ('layer_stack.2.bias',\n",
       "              tensor([-0.1606,  0.1747, -0.0471, -0.1303,  0.2380, -0.0611, -0.1707, -0.0485,\n",
       "                      -0.2011, -0.3045], device='cuda:0'))])"
      ]
     },
     "execution_count": 148,
     "metadata": {},
     "output_type": "execute_result"
    }
   ],
   "source": [
    "model_0.state_dict()\n"
   ]
  },
  {
   "cell_type": "markdown",
   "id": "6eb81396",
   "metadata": {},
   "source": [
    "## Loss function, optimizer, evaluations"
   ]
  },
  {
   "cell_type": "code",
   "execution_count": 149,
   "id": "5ae1f902",
   "metadata": {},
   "outputs": [],
   "source": [
    "import torchmetrics\n",
    "\n",
    "loss_fn = nn.CrossEntropyLoss()\n",
    "optimizer = torch.optim.SGD(params=model_0.parameters(), lr=0.1)\n",
    "accuracy_fn = torchmetrics.Accuracy(task=\"multiclass\", num_classes=10).to(DEVICE)\n"
   ]
  },
  {
   "cell_type": "markdown",
   "id": "ee07ebe8",
   "metadata": {},
   "source": [
    "## Timing function"
   ]
  },
  {
   "cell_type": "code",
   "execution_count": 150,
   "id": "691f3ac0",
   "metadata": {},
   "outputs": [],
   "source": [
    "from timeit import default_timer as timer\n",
    "\n",
    "def print_train_time(start: float, end: float, device: torch.device = 'cpu'):\n",
    "    time = end -start \n",
    "    print(f\"Time Taken on device {device}: {time:.3f} seconds\")\n"
   ]
  },
  {
   "cell_type": "markdown",
   "id": "e832f00c",
   "metadata": {},
   "source": [
    "## Training and Testing\n"
   ]
  },
  {
   "cell_type": "code",
   "execution_count": 151,
   "id": "66983b94",
   "metadata": {},
   "outputs": [
    {
     "name": "stderr",
     "output_type": "stream",
     "text": [
      "  0%|          | 0/3 [00:00<?, ?it/s]"
     ]
    },
    {
     "name": "stdout",
     "output_type": "stream",
     "text": [
      "epoch: 0\n",
      "---------\n",
      "Looked at 0/ 60000 samples\n"
     ]
    },
    {
     "name": "stdout",
     "output_type": "stream",
     "text": [
      "Looked at 12800/ 60000 samples\n",
      "Looked at 25600/ 60000 samples\n",
      "Looked at 38400/ 60000 samples\n",
      "Looked at 51200/ 60000 samples\n"
     ]
    },
    {
     "name": "stderr",
     "output_type": "stream",
     "text": [
      " 33%|███▎      | 1/3 [00:08<00:17,  8.55s/it]"
     ]
    },
    {
     "name": "stdout",
     "output_type": "stream",
     "text": [
      "\n",
      "Train loss: 0.59478 | Test loss: 0.50880, Test acc: 0.82%\n",
      "\n",
      "epoch: 1\n",
      "---------\n",
      "Looked at 0/ 60000 samples\n",
      "Looked at 12800/ 60000 samples\n",
      "Looked at 25600/ 60000 samples\n",
      "Looked at 38400/ 60000 samples\n",
      "Looked at 51200/ 60000 samples\n"
     ]
    },
    {
     "name": "stderr",
     "output_type": "stream",
     "text": [
      " 67%|██████▋   | 2/3 [00:17<00:08,  8.54s/it]"
     ]
    },
    {
     "name": "stdout",
     "output_type": "stream",
     "text": [
      "\n",
      "Train loss: 0.48073 | Test loss: 0.48769, Test acc: 0.83%\n",
      "\n",
      "epoch: 2\n",
      "---------\n",
      "Looked at 0/ 60000 samples\n",
      "Looked at 12800/ 60000 samples\n",
      "Looked at 25600/ 60000 samples\n",
      "Looked at 38400/ 60000 samples\n",
      "Looked at 51200/ 60000 samples\n"
     ]
    },
    {
     "name": "stderr",
     "output_type": "stream",
     "text": [
      "100%|██████████| 3/3 [00:25<00:00,  8.53s/it]"
     ]
    },
    {
     "name": "stdout",
     "output_type": "stream",
     "text": [
      "\n",
      "Train loss: 0.45673 | Test loss: 0.47976, Test acc: 0.83%\n",
      "\n",
      "Time Taken on device cuda:0: 25.600 seconds\n"
     ]
    },
    {
     "name": "stderr",
     "output_type": "stream",
     "text": [
      "\n"
     ]
    }
   ],
   "source": [
    "from tqdm.auto import tqdm\n",
    "\n",
    "EPOCHS = 3\n",
    "\n",
    "# Set random seeds for reproducibility\n",
    "torch.manual_seed(42)\n",
    "torch.cuda.manual_seed(42)\n",
    "\n",
    "# Start timer to measure training time\n",
    "train_time_start_on_gpu = timer()\n",
    "\n",
    "for epoch in tqdm(range(EPOCHS)):\n",
    "    print(f'epoch: {epoch}\\n---------')\n",
    "\n",
    "    training_loss = 0  # Accumulate training loss for the epoch\n",
    "    for batch, (X, y) in enumerate(train_dataloader):\n",
    "        # Move data to the target device (CPU or GPU)\n",
    "        X, y = X.to(DEVICE), y.to(DEVICE)\n",
    "        # Set model to training mode\n",
    "        model_0.train()\n",
    "        \n",
    "        # Forward pass: compute predictions\n",
    "        y_preds = model_0(X)\n",
    "\n",
    "        # Compute loss for the batch\n",
    "        loss = loss_fn(y_preds, y)\n",
    "        training_loss += loss  # Accumulate batch loss\n",
    "\n",
    "        # Zero the gradients before backward pass\n",
    "        optimizer.zero_grad()\n",
    "\n",
    "        # Backward pass: compute gradients\n",
    "        loss.backward()\n",
    "\n",
    "        # Update model parameters\n",
    "        optimizer.step()\n",
    "\n",
    "        # Print progress every 400 batches\n",
    "        if batch % 400 == 0: \n",
    "            print(f'Looked at {batch * len(X)}/ {len(train_dataloader.dataset)} samples')\n",
    "    \n",
    "    # Average training loss over all batches\n",
    "    training_loss /= len(train_dataloader)\n",
    "\n",
    "    # Evaluate on the test dataset\n",
    "    test_loss, test_acc = 0, 0 \n",
    "    model_0.eval()  # Set model to evaluation mode\n",
    "    with torch.inference_mode():\n",
    "        for X, y in test_dataloader:\n",
    "            # Move test data to the target device\n",
    "            X, y = X.to(DEVICE), y.to(DEVICE)\n",
    "\n",
    "            # Forward pass: compute predictions\n",
    "            y_test_preds = model_0(X)\n",
    "\n",
    "            # Accumulate test loss\n",
    "            test_loss += loss_fn(y_test_preds, y)\n",
    "\n",
    "            # Accumulate test accuracy\n",
    "            test_acc += accuracy_fn(y_test_preds.argmax(dim=1), y)\n",
    "        \n",
    "        # Average test loss and accuracy over all batches\n",
    "        test_loss /= len(test_dataloader)\n",
    "        test_acc /= len(test_dataloader)\n",
    "\n",
    "    print(f\"\\nTrain loss: {training_loss:.5f} | Test loss: {test_loss:.5f}, Test acc: {test_acc:.2f}%\\n\")\n",
    "\n",
    "# End timer after training\n",
    "train_time_end_on_gpu = timer()\n",
    "\n",
    "# Print total training time\n",
    "print_train_time(start=train_time_start_on_gpu, \n",
    "                 end=train_time_end_on_gpu, \n",
    "                 device=str(next(model_0.parameters()).device))\n"
   ]
  },
  {
   "cell_type": "markdown",
   "id": "62c73fb3",
   "metadata": {},
   "source": [
    "## Make Predictions and Get results "
   ]
  },
  {
   "cell_type": "code",
   "execution_count": 166,
   "id": "7545e269",
   "metadata": {},
   "outputs": [],
   "source": [
    "def eval_model(model: torch.nn.Module, \n",
    "               data_loader: torch.utils.data.DataLoader, \n",
    "               accuracy: torchmetrics.Accuracy, \n",
    "               loss_fn: torch.nn.Module,\n",
    "               device: torch.device = 'cpu', \n",
    "               pretty_print: bool = True) -> dict:\n",
    "    \"\"\"\n",
    "    Evaluates a PyTorch model on a given dataset and optionally prints the results in a pretty format.\n",
    "\n",
    "    Args:\n",
    "        model (torch.nn.Module): The model to evaluate.\n",
    "        data_loader (torch.utils.data.DataLoader): DataLoader providing the evaluation dataset.\n",
    "        accuracy (torchmetrics.Accuracy): TorchMetrics accuracy object to compute accuracy.\n",
    "        loss_fn (torch.nn.Module): Loss function used to calculate model loss.\n",
    "        device (torch.device, optional): Device to run evaluation on ('cpu' or 'cuda'). Default is 'cpu'.\n",
    "        pretty_print (bool, optional): If True, prints the evaluation results in a formatted style. \n",
    "                                       If False, returns the results as a dictionary.\n",
    "\n",
    "    Returns:\n",
    "        dict: A dictionary containing model class name, average loss, accuracy, and device used,\n",
    "              only if pretty_print is False. If pretty_print is True, results are printed and None is returned.\n",
    "    \"\"\"\n",
    "\n",
    "    # Move model to the specified device and set it to evaluation mode\n",
    "    model.to(device)\n",
    "    model.eval()\n",
    "\n",
    "    # Reset accuracy metric at the beginning of evaluation\n",
    "    accuracy.reset()\n",
    "\n",
    "    # Initialize total loss accumulator\n",
    "    total_loss = 0.0\n",
    "\n",
    "    # Disable gradient calculation for memory efficiency and speed during inference\n",
    "    with torch.inference_mode():\n",
    "        for X, y in tqdm(data_loader):\n",
    "            # Move inputs and targets to the specified device\n",
    "            X, y = X.to(device), y.to(device)\n",
    "\n",
    "            # Forward pass: compute predictions\n",
    "            preds = model(X)\n",
    "\n",
    "            # Compute loss for the batch and accumulate it\n",
    "            loss = loss_fn(preds, y)\n",
    "            total_loss += loss.item()\n",
    "\n",
    "            # Update the accuracy metric using predicted and actual labels\n",
    "            accuracy.update(preds.argmax(dim=1), y)\n",
    "\n",
    "    # Calculate average loss over all batches\n",
    "    avg_loss = total_loss / len(data_loader)\n",
    "\n",
    "    # Compute final accuracy\n",
    "    final_acc = accuracy.compute()\n",
    "\n",
    "    # Pack results into a dictionary\n",
    "    result = {\n",
    "        \"model class Name\": model.__class__.__name__,\n",
    "        \"loss\": avg_loss,\n",
    "        \"acc\": final_acc.item(),\n",
    "        \"device\": str(device)\n",
    "    }\n",
    "\n",
    "    # Define a formatted string for pretty printing\n",
    "    pretty = (\n",
    "        \"\\n📊 Evaluation Results\\n\"\n",
    "        \"----------------------------\\n\"\n",
    "        f\"🧠 Model Class : {result['model class Name']}\\n\"\n",
    "        f\"💻 Device      : {result['device']}\\n\"\n",
    "        f\"🔢 Accuracy    : {result['acc'] * 100:.2f}%\\n\"\n",
    "        f\"📉 Loss        : {result['loss']:.4f}\\n\"\n",
    "    )\n",
    "\n",
    "    # Print the results prettily or return the raw result dictionary\n",
    "    if pretty_print:\n",
    "        print(pretty)\n",
    "    else:\n",
    "        return result\n"
   ]
  },
  {
   "cell_type": "code",
   "execution_count": 168,
   "id": "fa08fc2c",
   "metadata": {},
   "outputs": [
    {
     "name": "stderr",
     "output_type": "stream",
     "text": [
      " 20%|█▉        | 62/313 [00:00<00:00, 305.07it/s]"
     ]
    },
    {
     "name": "stderr",
     "output_type": "stream",
     "text": [
      "100%|██████████| 313/313 [00:01<00:00, 292.55it/s]"
     ]
    },
    {
     "name": "stdout",
     "output_type": "stream",
     "text": [
      "\n",
      "📊 Evaluation Results\n",
      "----------------------------\n",
      "🧠 Model Class : FashionMNISTModel0\n",
      "💻 Device      : cuda\n",
      "🔢 Accuracy    : 83.40%\n",
      "📉 Loss        : 0.4798\n",
      "\n"
     ]
    },
    {
     "name": "stderr",
     "output_type": "stream",
     "text": [
      "\n"
     ]
    }
   ],
   "source": [
    "eval_model(model=model_0, \n",
    "           data_loader=test_dataloader, \n",
    "           accuracy=accuracy_fn, \n",
    "           loss_fn=loss_fn, \n",
    "           device=DEVICE)\n"
   ]
  },
  {
   "cell_type": "code",
   "execution_count": null,
   "id": "aaa14c52",
   "metadata": {},
   "outputs": [],
   "source": []
  }
 ],
 "metadata": {
  "kernelspec": {
   "display_name": ".PTDL-venv",
   "language": "python",
   "name": "python3"
  },
  "language_info": {
   "codemirror_mode": {
    "name": "ipython",
    "version": 3
   },
   "file_extension": ".py",
   "mimetype": "text/x-python",
   "name": "python",
   "nbconvert_exporter": "python",
   "pygments_lexer": "ipython3",
   "version": "3.10.17"
  }
 },
 "nbformat": 4,
 "nbformat_minor": 5
}
