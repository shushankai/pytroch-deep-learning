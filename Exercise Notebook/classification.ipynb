{
 "cells": [
  {
   "cell_type": "markdown",
   "id": "0d7ed3c9",
   "metadata": {},
   "source": [
    "# Exercise Notebook "
   ]
  },
  {
   "cell_type": "markdown",
   "id": "3efecb2a",
   "metadata": {},
   "source": [
    "## Imports"
   ]
  },
  {
   "cell_type": "code",
   "execution_count": null,
   "id": "cebb91e1",
   "metadata": {
    "vscode": {
     "languageId": "plaintext"
    }
   },
   "outputs": [],
   "source": []
  }
 ],
 "metadata": {
  "language_info": {
   "name": "python"
  }
 },
 "nbformat": 4,
 "nbformat_minor": 5
}
